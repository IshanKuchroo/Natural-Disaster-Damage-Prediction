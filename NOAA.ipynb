{
  "nbformat": 4,
  "nbformat_minor": 0,
  "metadata": {
    "colab": {
      "name": "NOAA.ipynb",
      "provenance": [],
      "collapsed_sections": [],
      "mount_file_id": "10BD9Lmpf2-QL3uOycjGxY13EMLOxCHD0",
      "authorship_tag": "ABX9TyPM2eIeYc6oFr5iZzy906jX",
      "include_colab_link": true
    },
    "kernelspec": {
      "name": "python3",
      "display_name": "Python 3"
    },
    "language_info": {
      "name": "python"
    }
  },
  "cells": [
    {
      "cell_type": "markdown",
      "metadata": {
        "id": "view-in-github",
        "colab_type": "text"
      },
      "source": [
        "<a href=\"https://colab.research.google.com/github/siddas18/Natural-Disaster-Damage-Prediction/blob/Kartik/NOAA.ipynb\" target=\"_parent\"><img src=\"https://colab.research.google.com/assets/colab-badge.svg\" alt=\"Open In Colab\"/></a>"
      ]
    },
    {
      "cell_type": "code",
      "metadata": {
        "id": "27KGWVOm__F8"
      },
      "source": [
        "import pandas as pd\n",
        "import seaborn as sns\n",
        "from sklearn.model_selection import train_test_split\n",
        "from sklearn.metrics import classification_report\n",
        "import matplotlib.pyplot as plt\n",
        "import numpy as np\n",
        "import requests\n",
        "import gzip"
      ],
      "execution_count": null,
      "outputs": []
    },
    {
      "cell_type": "code",
      "metadata": {
        "id": "0KEt53g3vUI9"
      },
      "source": [
        "#Reading data file names\n",
        "def get_file_names():\n",
        "  URL = \"https://www.ncei.noaa.gov/pub/data/swdi/stormevents/csvfiles/\"\n",
        "\n",
        "  r = requests.get(URL)\n",
        "  df_list = pd.read_html(r.text) \n",
        "  df = df_list[0]\n",
        "\n",
        "  df2 = df[df[\"Name\"].str.contains(\"details\",na=False)]\n",
        "  df2 = df2['Name']\n",
        "  return df2\n",
        "\n",
        "#Call\n",
        "df2 = get_file_names()\n"
      ],
      "execution_count": null,
      "outputs": []
    },
    {
      "cell_type": "code",
      "metadata": {
        "colab": {
          "base_uri": "https://localhost:8080/"
        },
        "id": "ononsZnmWBUD",
        "outputId": "52463f12-ae4f-437f-832f-171745cc08c6"
      },
      "source": [
        "noaa_list = []\n",
        "parentURL = 'https://www.ncei.noaa.gov/pub/data/swdi/stormevents/csvfiles/'\n",
        "for i in range(10):\n",
        "  dwn = parentURL+df2.iloc[i,]\n",
        "  with gzip.open(requests.get(dwn, stream=True).raw) as f:\n",
        "      noaa_list.append(pd.read_csv(f))\n",
        "      #print(noaa_list[0].columns)\n",
        "\n",
        "#print(noaa_list)\n",
        "noaa = pd.DataFrame(data=noaa_list[0],columns=noaa_list[0].columns)\n",
        "len(noaa)"
      ],
      "execution_count": null,
      "outputs": [
        {
          "output_type": "execute_result",
          "data": {
            "text/plain": [
              "223"
            ]
          },
          "metadata": {},
          "execution_count": 17
        }
      ]
    },
    {
      "cell_type": "code",
      "metadata": {
        "id": "EZnPvmhf7cD1"
      },
      "source": [
        "parentURL = 'https://www.ncei.noaa.gov/pub/data/swdi/stormevents/csvfiles/'\n",
        "\n",
        "def get_files(df2, parentURL):  \n",
        "  noaa_list=[]\n",
        "  for i in range(len(df2)):\n",
        "    print(i)\n",
        "    dwn = parentURL+df2.iloc[i,]\n",
        "    with gzip.open(requests.get(dwn, stream=True).raw) as f:\n",
        "      noaa_list.append(pd.read_csv(f))\n",
        "  return noaa_list\n",
        "noaa_list = get_files(df2,parentURL)      \n",
        "df_merge = pd.concat(noaa_list)\n"
      ],
      "execution_count": null,
      "outputs": []
    },
    {
      "cell_type": "code",
      "metadata": {
        "id": "60R2tkE-YKnT"
      },
      "source": [
        "# Add the locations and fatalities data here before saving the df "
      ],
      "execution_count": null,
      "outputs": []
    },
    {
      "cell_type": "code",
      "metadata": {
        "id": "urR2r5vd5FE1"
      },
      "source": [
        "# Save it to drive\n",
        "df_merge.to_pickle('/content/drive/MyDrive/Projects/NOAA/Datasets/df_pickle.pkl')"
      ],
      "execution_count": null,
      "outputs": []
    },
    {
      "cell_type": "code",
      "metadata": {
        "id": "-5dS6_WtihRf"
      },
      "source": [
        "#Run\n",
        "# Reading the persisted data from drive.No need to pull it again from the wibsite \n",
        "df_merge = pd.read_pickle('/content/drive/MyDrive/Projects/NOAA/Datasets/df_pickle.pkl')\n",
        "del(noaa)"
      ],
      "execution_count": null,
      "outputs": []
    },
    {
      "cell_type": "code",
      "metadata": {
        "id": "nWbYDVEDkSOK"
      },
      "source": [
        "df_merge.sort_values(by=['BEGIN_YEARMONTH'], inplace= True)"
      ],
      "execution_count": null,
      "outputs": []
    },
    {
      "cell_type": "code",
      "metadata": {
        "id": "0b8tuhj1VMXB"
      },
      "source": [
        "# Need to pull all these from the website instead from drive.\n",
        "#RUN \n",
        "#Earth surface temp merge\n",
        "surface_temp = pd.read_csv(\"/content/drive/MyDrive/Projects/NOAA/Datasets/EPA Earth Surface temperature (1900-2020).csv\",skiprows=7,usecols=[0,1], names = [\"YEAR\",\"Earth's surface(F)\"])\n",
        "# surface_temp.head()\n",
        "df_merge = pd.merge(left=df_merge,right=surface_temp,how=\"left\",on=\"YEAR\")\n",
        "# df_merge.head()"
      ],
      "execution_count": null,
      "outputs": []
    },
    {
      "cell_type": "code",
      "metadata": {
        "id": "6Oyi7zvbll3U"
      },
      "source": [
        "#RUN \n",
        "#Green house ds merge\n",
        "greenhouse = pd.read_csv(\"/content/drive/MyDrive/Projects/NOAA/Datasets/EPA Greenhouse Gas Emissions (1990-2019).csv\",skiprows=6)\n",
        "greenhouse.rename(columns={\"Year\":\"YEAR\"},inplace=True)\n",
        "# greenhouse.head()\n",
        "df_merge = pd.merge(left=df_merge,right=greenhouse,how=\"left\",on=\"YEAR\")\n",
        "# df_merge.head()"
      ],
      "execution_count": null,
      "outputs": []
    },
    {
      "cell_type": "code",
      "metadata": {
        "id": "IJDaQhv7nTVt"
      },
      "source": [
        "#RUN\n",
        "#Precipitation ds merge\n",
        "precipitation =  pd.read_csv('/content/drive/MyDrive/Projects/NOAA/Datasets/EPA Precipitation (1901-2020).csv',skiprows=6)\n",
        "precipitation.rename(columns={\"Year\":\"YEAR\"},inplace=True)\n",
        "df_merge = pd.merge(left=df_merge,right=precipitation,how=\"left\",on=\"YEAR\")\n",
        "# df_merge.head()\n",
        "df_merge.rename(columns={'Anomaly':'precipitation_Anomaly'},inplace=True)\n"
      ],
      "execution_count": null,
      "outputs": []
    },
    {
      "cell_type": "code",
      "metadata": {
        "id": "g2Wiznqup7Of"
      },
      "source": [
        "#RUN\n",
        "#Sea level DS merge\n",
        "sea_level = pd.read_csv('/content/drive/MyDrive/Projects/NOAA/Datasets/EPA Sea Level Readings (1880-2020).csv',skiprows=6,usecols=[0,1,4])\n",
        "sea_level.rename(columns={\"Year\":\"YEAR\"},inplace=True)\n",
        "\n",
        "\n",
        "#Using NOAA - Adjusted sea level (inches) for the year 1993-2019\n",
        "sea_level.loc[sea_level['YEAR']>1992, 'CSIRO - Adjusted sea level (inches)'] = sea_level.loc[sea_level['YEAR']>1992, 'NOAA - Adjusted sea level (inches)']\n",
        "sea_level.rename(columns={\"CSIRO - Adjusted sea level (inches)\":\"sea_level_change\"},inplace=True)\n",
        "sea_level.drop('NOAA - Adjusted sea level (inches)',axis=1,inplace=True)\n",
        "\n",
        "#Merge\n",
        "df_merge = pd.merge(left=df_merge,right=sea_level,how=\"left\",on=\"YEAR\")\n"
      ],
      "execution_count": null,
      "outputs": []
    },
    {
      "cell_type": "code",
      "metadata": {
        "id": "LFU30tlLuZzT"
      },
      "source": [
        "#RUN\n",
        "#Seasonal Temp anomaly DS merge\n",
        "seasonal_temp = pd.read_csv('/content/drive/MyDrive/Projects/NOAA/Datasets/EPA seasonal-temperature(1896-2020).csv',skiprows=6)\n",
        "seasonal_temp.rename(columns={\"Year\":\"YEAR\",'Winter':'winter_temp_anamoly','Spring':'spring_temp_anamoly','Summer':'summer_temp_anamoly','Fall':'fall_temp_anamoly'},inplace=True)\n",
        "# seasonal_temp.head()\n",
        "\n",
        "#Merge\n",
        "df_merge = pd.merge(left=df_merge,right=seasonal_temp,how=\"left\",on=\"YEAR\")\n",
        "# df_merge.head()"
      ],
      "execution_count": null,
      "outputs": []
    },
    {
      "cell_type": "code",
      "metadata": {
        "id": "8ShtbCI52MGJ"
      },
      "source": [
        "#RUN\n",
        "#artic_ice_cover DS merge\n",
        "artic_ice_cover = pd.read_csv('/content/drive/MyDrive/Projects/NOAA/Datasets/arctic-sea-ice_fig-1.csv',skiprows=6)\n",
        "artic_ice_cover.rename(columns={\"Year\":\"YEAR\",'March':'march_artic_ice_cover','September':'september_artic_ice_cover'},inplace=True)\n",
        "\n",
        "\n",
        "#Merge\n",
        "df_merge = pd.merge(left=df_merge,right=artic_ice_cover,how=\"left\",on=\"YEAR\")\n",
        "# df_merge.head()"
      ],
      "execution_count": null,
      "outputs": []
    },
    {
      "cell_type": "code",
      "metadata": {
        "id": "Umrwd_6r3-vr"
      },
      "source": [
        "#RUN\n",
        "#Glaciers mass DS merge\n",
        "glacier = pd.read_csv('/content/drive/MyDrive/Projects/NOAA/Datasets/glaciers_fig-1.csv',skiprows=6, usecols=[0,1])\n",
        "glacier.rename(columns={\"Year\":\"YEAR\",'Mean cumulative mass balance': 'glacier_mass_balance'},inplace=True)\n",
        "# glacier.head()\n",
        "\n",
        "df_merge = pd.merge(left=df_merge,right=glacier,how=\"left\",on=\"YEAR\")\n",
        "# df_merge.head()"
      ],
      "execution_count": null,
      "outputs": []
    },
    {
      "cell_type": "code",
      "metadata": {
        "id": "X6yyU2pb5FMR"
      },
      "source": [
        "del(glacier,artic_ice_cover,seasonal_temp,sea_level,precipitation,greenhouse,surface_temp)"
      ],
      "execution_count": null,
      "outputs": []
    },
    {
      "cell_type": "code",
      "metadata": {
        "id": "IWSyRIi9Oy9S"
      },
      "source": [
        "#RUN\n",
        "column_drop = ['END_AZIMUTH','CZ_FIPS','EPISODE_ID','EVENT_ID','STATE','STATE_FIPS','CZ_NAME','WFO','CZ_TIMEZONE','END_DATE_TIME','BEGIN_DATE_TIME','SOURCE','TOR_OTHER_WFO','TOR_OTHER_CZ_STATE','TOR_OTHER_CZ_FIPS', 'TOR_OTHER_CZ_NAME','BEGIN_AZIMUTH','BEGIN_LOCATION','END_LOCATION','EPISODE_NARRATIVE', 'EVENT_NARRATIVE','DATA_SOURCE']\n",
        "df_merge.drop(axis=1, columns=column_drop, inplace=True)\n",
        "#df.drop(axis=1, columns='END_AZIMUTH', inplace=True)\n"
      ],
      "execution_count": null,
      "outputs": []
    },
    {
      "cell_type": "markdown",
      "metadata": {
        "id": "VGPN2m16Jcmz"
      },
      "source": [
        "### **Missing Values**"
      ]
    },
    {
      "cell_type": "code",
      "metadata": {
        "id": "JBk_ax8psdte",
        "colab": {
          "base_uri": "https://localhost:8080/"
        },
        "outputId": "cf9c07c3-ee32-4aed-dcb1-586ccca707e8"
      },
      "source": [
        "# df = df_merge[(df_merge['YEAR']<2020) & (df_merge['YEAR']>=1990)]\n",
        "# (df.isna().sum()/len(df))*100\n",
        "#Checing of percentage of missing values per feature\n",
        "(df_merge.isna().sum()/len(df_merge))*100"
      ],
      "execution_count": null,
      "outputs": [
        {
          "output_type": "execute_result",
          "data": {
            "text/plain": [
              "BEGIN_YEARMONTH               0.000000\n",
              "BEGIN_DAY                     0.000000\n",
              "BEGIN_TIME                    0.000000\n",
              "END_YEARMONTH                 0.000000\n",
              "END_DAY                       0.000000\n",
              "END_TIME                      0.000000\n",
              "YEAR                          0.000000\n",
              "MONTH_NAME                    0.000000\n",
              "EVENT_TYPE                    0.000000\n",
              "CZ_TYPE                       0.000000\n",
              "INJURIES_DIRECT               0.000000\n",
              "INJURIES_INDIRECT             0.000000\n",
              "DEATHS_DIRECT                 0.000000\n",
              "DEATHS_INDIRECT               0.000000\n",
              "DAMAGE_PROPERTY              31.506551\n",
              "DAMAGE_CROPS                 37.955561\n",
              "MAGNITUDE                    43.634970\n",
              "MAGNITUDE_TYPE               76.126964\n",
              "FLOOD_CAUSE                  94.897977\n",
              "CATEGORY                     99.975288\n",
              "TOR_F_SCALE                  95.978443\n",
              "TOR_LENGTH                   84.756025\n",
              "TOR_WIDTH                    84.756025\n",
              "BEGIN_RANGE                  47.155502\n",
              "END_RANGE                    47.177017\n",
              "BEGIN_LAT                    40.502749\n",
              "BEGIN_LON                    40.503148\n",
              "END_LAT                      50.632203\n",
              "END_LON                      50.632545\n",
              "Earth's surface(F)            1.405884\n",
              "Carbon dioxide               13.461537\n",
              "Methane                      13.461537\n",
              "Nitrous oxide                13.461537\n",
              "HFCs, PFCs, SF6, and NF3     13.461537\n",
              "precipitation_Anomaly         1.405884\n",
              "sea_level_change              4.872655\n",
              "winter_temp_anamoly           1.405884\n",
              "spring_temp_anamoly           1.405884\n",
              "summer_temp_anamoly           1.405884\n",
              "fall_temp_anamoly             1.405884\n",
              "march_artic_ice_cover         5.460713\n",
              "september_artic_ice_cover     5.460713\n",
              "glacier_mass_balance          5.059733\n",
              "dtype: float64"
            ]
          },
          "metadata": {},
          "execution_count": 114
        }
      ]
    },
    {
      "cell_type": "code",
      "metadata": {
        "id": "1uSk3uPGGACQ"
      },
      "source": [
        "# Misiing values for the extra DS\n",
        "# df_col = 'Carbon dioxide', 'Methane', 'Nitrous oxide', 'HFCs, PFCs, SF6, and NF3', 'precipitation_Anomaly', 'sea_level_change', 'winter_temp_anamoly', 'spring_temp_anamoly', 'summer_temp_anamoly', 'fall_temp_anamoly', 'march_artic_ice_cover','september_artic_ice_cover', 'glacier_mass_balance']\n",
        "df_col = df_merge.columns.to_list()\n",
        "df_col_sel = df_col[len(df_col)-14:]\n",
        "\n",
        "#Check missing values per year for the extra datasets\n",
        "\n",
        "group_year = df_merge.groupby(['YEAR'], dropna=False)\n",
        "for i,col in enumerate(df_col_sel):\n",
        "  plt.plot(group_year[col].apply(lambda x: x.isnull().sum()),label = col)\n",
        "plt.plot(g_y, label = 'Total data points for the year')\n",
        "# plt.legend()\n",
        "# plt.ylim(0,20000)"
      ],
      "execution_count": null,
      "outputs": []
    },
    {
      "cell_type": "code",
      "metadata": {
        "id": "_oGY0HcSxAgP"
      },
      "source": [
        "#Checking missin values in the target variable per year\n",
        "# import seaborn as sns\n",
        "# sns.heatmap(df.isnull(), cbar=False)\n",
        "\n",
        "g_n = df_merge.groupby(['YEAR'], dropna=False)['DAMAGE_PROPERTY'].apply(lambda x: x.isnull().sum())\n",
        "g_y = df_merge.groupby(['YEAR'], dropna=False).agg({'YEAR':'count'})\n",
        "g_n2 = df_merge.groupby(['YEAR'], dropna=False)['DAMAGE_CROPS'].apply(lambda x: x.isnull().sum())\n",
        "plt.plot(g_n, label = 'Missing target value for year')\n",
        "plt.plot(g_y, label = 'Total data points for the year')\n",
        "plt.plot(g_n2, label = 'crop')\n",
        "plt.legend()\n",
        "\n"
      ],
      "execution_count": null,
      "outputs": []
    },
    {
      "cell_type": "markdown",
      "metadata": {
        "id": "_SaXpVEOLY10"
      },
      "source": [
        "###Transforming colimns"
      ]
    },
    {
      "cell_type": "code",
      "metadata": {
        "id": "AUjtLMwuLVcr"
      },
      "source": [
        "#Run\n",
        "\n",
        "#Delete rows where 'DAMAGE_PROPERTY' has 'h','H'\n",
        "# May be h/H means hundred. Lets try not to delete it. Changes to be made in strip_mul method\n",
        "h_index = df_merge[df_merge['DAMAGE_PROPERTY'].str.contains('h', na=False)].index.to_list()\n",
        "H_index = df_merge[df_merge['DAMAGE_PROPERTY'].str.contains('H', na=False)].index.to_list()\n",
        "\n",
        "df_merge.drop(h_index, axis=0, inplace=True)\n",
        "df_merge.drop(H_index, axis=0, inplace=True)\n"
      ],
      "execution_count": null,
      "outputs": []
    },
    {
      "cell_type": "code",
      "metadata": {
        "id": "wD_G73TbRgFh"
      },
      "source": [
        "df = df_merge.copy(deep=True)"
      ],
      "execution_count": null,
      "outputs": []
    },
    {
      "cell_type": "code",
      "metadata": {
        "id": "_3-fAYQkSiKY",
        "colab": {
          "base_uri": "https://localhost:8080/"
        },
        "outputId": "9669b3f1-cc90-433e-f2da-aee9642ac85e"
      },
      "source": [
        "df.dtypes"
      ],
      "execution_count": null,
      "outputs": [
        {
          "output_type": "execute_result",
          "data": {
            "text/plain": [
              "BEGIN_YEARMONTH                int64\n",
              "BEGIN_DAY                      int64\n",
              "BEGIN_TIME                     int64\n",
              "END_YEARMONTH                  int64\n",
              "END_DAY                        int64\n",
              "END_TIME                       int64\n",
              "YEAR                           int64\n",
              "MONTH_NAME                    object\n",
              "EVENT_TYPE                    object\n",
              "CZ_TYPE                       object\n",
              "INJURIES_DIRECT                int64\n",
              "INJURIES_INDIRECT              int64\n",
              "DEATHS_DIRECT                  int64\n",
              "DEATHS_INDIRECT                int64\n",
              "DAMAGE_PROPERTY              float64\n",
              "DAMAGE_CROPS                  object\n",
              "MAGNITUDE                    float64\n",
              "MAGNITUDE_TYPE                object\n",
              "FLOOD_CAUSE                   object\n",
              "CATEGORY                     float64\n",
              "TOR_F_SCALE                   object\n",
              "TOR_LENGTH                   float64\n",
              "TOR_WIDTH                    float64\n",
              "BEGIN_RANGE                  float64\n",
              "END_RANGE                    float64\n",
              "BEGIN_LAT                    float64\n",
              "BEGIN_LON                    float64\n",
              "END_LAT                      float64\n",
              "END_LON                      float64\n",
              "Earth's surface(F)           float64\n",
              "Carbon dioxide               float64\n",
              "Methane                      float64\n",
              "Nitrous oxide                float64\n",
              "HFCs, PFCs, SF6, and NF3     float64\n",
              "precipitation_Anomaly        float64\n",
              "sea_level_change             float64\n",
              "winter_temp_anamoly          float64\n",
              "spring_temp_anamoly          float64\n",
              "summer_temp_anamoly          float64\n",
              "fall_temp_anamoly            float64\n",
              "march_artic_ice_cover        float64\n",
              "september_artic_ice_cover    float64\n",
              "glacier_mass_balance         float64\n",
              "dtype: object"
            ]
          },
          "metadata": {},
          "execution_count": 115
        }
      ]
    },
    {
      "cell_type": "code",
      "metadata": {
        "id": "z9JH51d0pYEB"
      },
      "source": [
        "#RUN\n",
        "\n",
        "# s = df_merge['DAMAGE_CROPS']\n",
        "# s.str.strip().str[-1].unique()\n",
        "\n",
        "#Convert Target column to nummeric\n",
        "def strip_mul(x):\n",
        "  # print(type(x))\n",
        "  # print(x)\n",
        "  if x is None:\n",
        "    print(x, \"  not processing\")\n",
        "    return x  \n",
        "  else:\n",
        "    if isinstance(x, str):\n",
        "      if 'K' in x:\n",
        "        return float(x.rstrip(\"K\") or 1) * 1000\n",
        "      if 'k' in x:\n",
        "        return float(x.rstrip(\"k\") or 1) * 1000\n",
        "      elif 'M' in x:\n",
        "        return float(x.rstrip(\"M\") or 1) * 1000000\n",
        "      elif 'B' in x:\n",
        "        return float(x.rstrip(\"B\") or 1) * 1000000000\n",
        "      elif 'T' in x:\n",
        "        # print(x)\n",
        "        # print(float(x.rstrip(\"T\") or 1) * 10**12)\n",
        "        return float(x.rstrip(\"T\") or 1) * 10**12\n",
        "  \n",
        "    \n",
        "  \n",
        "df['DAMAGE_PROPERTY'] = df['DAMAGE_PROPERTY'].map(strip_mul)\n",
        "# df['DAMAGE_CROPS'] = df['DAMAGE_CROPS'].apply(strip_mul)\n",
        "\n"
      ],
      "execution_count": null,
      "outputs": []
    },
    {
      "cell_type": "code",
      "metadata": {
        "id": "awmjdmNX2kNp",
        "colab": {
          "base_uri": "https://localhost:8080/"
        },
        "outputId": "85251b1e-f969-4094-eb59-dee517836466"
      },
      "source": [
        "#Cheking for null,inf values in DAMAGE_PROPERTY\n",
        "\n",
        "# df_merge.isin([np.inf, -np.inf]).any()\n",
        "df_merge['DAMAGE_PROPERTY'].isna().sum()/len(df_merge['DAMAGE_PROPERTY'])\n",
        "# df_merge[df_merge['DAMAGE_PROPERTY']<0 or df_merge[]]"
      ],
      "execution_count": null,
      "outputs": [
        {
          "output_type": "execute_result",
          "data": {
            "text/plain": [
              "0.4293956136461046"
            ]
          },
          "metadata": {},
          "execution_count": 66
        }
      ]
    },
    {
      "cell_type": "markdown",
      "metadata": {
        "id": "07Z7Hj1Sqg9s"
      },
      "source": [
        "Filling NA values in the DAMAGE_CROPS column"
      ]
    },
    {
      "cell_type": "code",
      "metadata": {
        "id": "hz0zFmlQbCzY",
        "colab": {
          "base_uri": "https://localhost:8080/"
        },
        "outputId": "d01952a7-1698-4c3d-8f20-e5234e728792"
      },
      "source": [
        "#RUN\n",
        "df.replace([np.inf, -np.inf], np.nan, inplace=True)\n",
        "df['DAMAGE_CROPS'] = df['DAMAGE_CROPS'].fillna(0)\n",
        "df['DAMAGE_CROPS'].isna().sum()"
      ],
      "execution_count": null,
      "outputs": [
        {
          "output_type": "execute_result",
          "data": {
            "text/plain": [
              "0"
            ]
          },
          "metadata": {},
          "execution_count": 49
        }
      ]
    },
    {
      "cell_type": "code",
      "metadata": {
        "id": "nBuQbW3vUPkA"
      },
      "source": [
        "### Multiple issues with the datatype still exits. Please check"
      ],
      "execution_count": null,
      "outputs": []
    }
  ]
}