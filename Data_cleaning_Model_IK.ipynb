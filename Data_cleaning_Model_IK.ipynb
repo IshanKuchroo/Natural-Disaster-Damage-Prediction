{
 "cells": [
  {
   "cell_type": "markdown",
   "id": "view-in-github",
   "metadata": {
    "id": "view-in-github"
   },
   "source": [
    "<a href=\"https://colab.research.google.com/github/siddas18/Natural-Disaster-Damage-Prediction/blob/Kartik/Data_cleaning.ipynb\" target=\"_parent\"><img src=\"https://colab.research.google.com/assets/colab-badge.svg\" alt=\"Open In Colab\"/></a>"
   ]
  },
  {
   "cell_type": "code",
   "execution_count": 74,
   "id": "MgmFTvS9ZlB0",
   "metadata": {
    "colab": {
     "base_uri": "https://localhost:8080/"
    },
    "executionInfo": {
     "elapsed": 276,
     "status": "ok",
     "timestamp": 1638563085306,
     "user": {
      "displayName": "Ishan Kuchroo",
      "photoUrl": "https://lh3.googleusercontent.com/a-/AOh14GjqL1VsIRtQxbdkbnsamPgdrsuFIrzKzg-MbkLU=s64",
      "userId": "15481571572392513977"
     },
     "user_tz": 300
    },
    "id": "MgmFTvS9ZlB0",
    "outputId": "05e74077-95a5-4892-999d-535b36d48997"
   },
   "outputs": [
    {
     "name": "stdout",
     "output_type": "stream",
     "text": [
      "Drive already mounted at /content/drive; to attempt to forcibly remount, call drive.mount(\"/content/drive\", force_remount=True).\n"
     ]
    }
   ],
   "source": [
    "from google.colab import drive\n",
    "drive.mount('/content/drive')"
   ]
  },
  {
   "cell_type": "code",
   "execution_count": 1,
   "id": "858b8ba7",
   "metadata": {
    "executionInfo": {
     "elapsed": 308,
     "status": "ok",
     "timestamp": 1638566772706,
     "user": {
      "displayName": "Ishan Kuchroo",
      "photoUrl": "https://lh3.googleusercontent.com/a-/AOh14GjqL1VsIRtQxbdkbnsamPgdrsuFIrzKzg-MbkLU=s64",
      "userId": "15481571572392513977"
     },
     "user_tz": 300
    },
    "id": "858b8ba7"
   },
   "outputs": [],
   "source": [
    "# Generic Libraries\n",
    "import pandas as pd\n",
    "import numpy as np\n",
    "import matplotlib.pyplot as plt\n",
    "import os\n",
    "from datetime import datetime as dt\n",
    "from math import sqrt, isnan, pi, sin, cos, atan2\n",
    "import requests\n",
    "import gzip\n",
    "from functools import reduce\n",
    "import scipy as scp\n",
    "import seaborn as sns\n",
    "import scipy.interpolate\n",
    "\n",
    "# Preprocessing\n",
    "from sklearn.model_selection import train_test_split\n",
    "from sklearn.preprocessing import StandardScaler\n",
    "from sklearn.decomposition import PCA\n",
    "from sklearn.model_selection import GridSearchCV\n",
    "\n",
    "# Models\n",
    "from sklearn.linear_model import LinearRegression, Ridge, Lasso, RidgeCV, LassoCV\n",
    "from sklearn.ensemble import RandomForestRegressor\n",
    "from sklearn.tree import DecisionTreeRegressor\n",
    "from xgboost import XGBRegressor\n",
    "\n",
    "# Metrics\n",
    "from sklearn.metrics import mean_squared_error, r2_score\n",
    "\n",
    "\n",
    "import warnings\n",
    "warnings.catch_warnings()\n",
    "warnings.simplefilter(\"ignore\")"
   ]
  },
  {
   "cell_type": "code",
   "execution_count": 2,
   "id": "c1cf52fb",
   "metadata": {
    "id": "c1cf52fb"
   },
   "outputs": [
    {
     "name": "stdout",
     "output_type": "stream",
     "text": [
      "Extracting CSV files...\n",
      "Completed\n"
     ]
    }
   ],
   "source": [
    "def get_NOAA_data():\n",
    "    \n",
    "    URL = \"https://www.ncei.noaa.gov/pub/data/swdi/stormevents/csvfiles/\"\n",
    "    r = requests.get(URL)\n",
    "    file_names = pd.read_html(r.text)[0]['Name']\n",
    "    events_file_names = file_names[file_names.str.contains(\"details\",na=False)]\n",
    "    noaa_list = []\n",
    "    \n",
    "    print(\"Extracting CSV files...\")\n",
    "    for file in events_file_names:\n",
    "        full_URL = URL + file\n",
    "        with gzip.open(requests.get(full_URL, stream=True).raw) as f:\n",
    "            noaa_list.append(pd.read_csv(f))\n",
    "        \n",
    "    df = pd.concat(noaa_list)\n",
    "    \n",
    "    print(\"Completed\")\n",
    "    return df\n",
    "\n",
    "def pickle_source_data():\n",
    "    noaa_source_df = get_NOAA_data()\n",
    "    home_dir = os.getcwd()\n",
    "    data_dir = os.path.join(home_dir, \"Data\")\n",
    "    try:\n",
    "        os.mkdir(data_dir)\n",
    "        os.chdir(data_dir)\n",
    "    except OSError:\n",
    "        os.chdir(data_dir)\n",
    "        for file in os.listdir():\n",
    "            os.remove(file)\n",
    "    noaa_source_df.to_pickle('noaa_source_data.pkl')\n",
    "    os.chdir(home_dir)\n",
    "    return noaa_source_df\n",
    "\n",
    "NOAA_df = pickle_source_data()\n",
    "    "
   ]
  },
  {
   "cell_type": "code",
   "execution_count": 3,
   "id": "718d5efd",
   "metadata": {
    "executionInfo": {
     "elapsed": 13631,
     "status": "ok",
     "timestamp": 1638566790635,
     "user": {
      "displayName": "Ishan Kuchroo",
      "photoUrl": "https://lh3.googleusercontent.com/a-/AOh14GjqL1VsIRtQxbdkbnsamPgdrsuFIrzKzg-MbkLU=s64",
      "userId": "15481571572392513977"
     },
     "user_tz": 300
    },
    "id": "718d5efd"
   },
   "outputs": [],
   "source": [
    "NOAA_df = pd.read_pickle('Data/noaa_source_data.pkl')"
   ]
  },
  {
   "cell_type": "code",
   "execution_count": 4,
   "id": "39d05e20",
   "metadata": {
    "executionInfo": {
     "elapsed": 306,
     "status": "ok",
     "timestamp": 1638566797077,
     "user": {
      "displayName": "Ishan Kuchroo",
      "photoUrl": "https://lh3.googleusercontent.com/a-/AOh14GjqL1VsIRtQxbdkbnsamPgdrsuFIrzKzg-MbkLU=s64",
      "userId": "15481571572392513977"
     },
     "user_tz": 300
    },
    "id": "39d05e20"
   },
   "outputs": [],
   "source": [
    "def replace_str2num(x):\n",
    "    if type(x) == float or type(x) == int:\n",
    "        return float(x)\n",
    "    num = 1 if x[:-1] == '' else x[:-1]        \n",
    "    if x[-1] == 'T':\n",
    "        return float(num) * 1000000000000\n",
    "    elif x[-1] == 'B':\n",
    "        return float(num) * 1000000000\n",
    "    elif x[-1] == 'M':\n",
    "        return float(num) * 1000000\n",
    "    elif x[-1] == 'K' or x[-1] == 'k':\n",
    "        return float(num) * 1000\n",
    "    elif x[-1] == 'h' or x[-1] == 'H':\n",
    "        return float(num) * 100\n",
    "    elif x[-1] == '?':\n",
    "        return float(num)\n",
    "    else:\n",
    "        return float(x)\n",
    "\n",
    "def winds(x):\n",
    "    if x['MAGNITUDE_TYPE'] in ['EG', 'E', 'M', 'ES', 'MG', 'MS']:\n",
    "        return x['MAGNITUDE']\n",
    "\n",
    "def hail(x):\n",
    "    if x['MAGNITUDE_TYPE'] not in ['EG', 'E', 'M', 'ES', 'MG', 'MS']:\n",
    "        return x['MAGNITUDE']\n",
    "\n",
    "def missing_swap(df, col1, col2):\n",
    "    df.loc[~df[col1].isnull() & df[col2].isnull(), col2] = df.loc[~df[col1].isnull() & df[col2].isnull(), col1]\n",
    "    df.loc[df[col1].isnull() & ~df[col2].isnull(), col1] = df.loc[df[col1].isnull() & ~df[col2].isnull(), col2]\n",
    "    return df"
   ]
  },
  {
   "cell_type": "code",
   "execution_count": 5,
   "id": "HOLYw52lA5rL",
   "metadata": {
    "executionInfo": {
     "elapsed": 4001,
     "status": "ok",
     "timestamp": 1638566805175,
     "user": {
      "displayName": "Ishan Kuchroo",
      "photoUrl": "https://lh3.googleusercontent.com/a-/AOh14GjqL1VsIRtQxbdkbnsamPgdrsuFIrzKzg-MbkLU=s64",
      "userId": "15481571572392513977"
     },
     "user_tz": 300
    },
    "id": "HOLYw52lA5rL"
   },
   "outputs": [],
   "source": [
    "# Damage variables cleaning\n",
    "\n",
    "NOAA_df['DAMAGE_PROPERTY'] = NOAA_df.DAMAGE_PROPERTY.map(replace_str2num)\n",
    "\n",
    "NOAA_df['DAMAGE_CROPS'] = NOAA_df.DAMAGE_CROPS.map(replace_str2num)"
   ]
  },
  {
   "cell_type": "code",
   "execution_count": 6,
   "id": "TWISm0x2tdCp",
   "metadata": {
    "id": "TWISm0x2tdCp"
   },
   "outputs": [
    {
     "name": "stdout",
     "output_type": "stream",
     "text": [
      "EPISODE_ID : 232016 \n",
      "\n",
      "13.568798127167131 \n",
      "\n",
      "STATE : 1 \n",
      "\n",
      "5.848216557119823e-05 \n",
      "\n",
      "STATE_FIPS : 1 \n",
      "\n",
      "5.848216557119823e-05 \n",
      "\n",
      "CZ_NAME : 1557 \n",
      "\n",
      "0.09105673179435565 \n",
      "\n",
      "WFO : 125350 \n",
      "\n",
      "7.330739454349698 \n",
      "\n",
      "DAMAGE_PROPERTY : 544204 \n",
      "\n",
      "31.826228432508362 \n",
      "\n",
      "DAMAGE_CROPS : 655519 \n",
      "\n",
      "38.33617069306629 \n",
      "\n",
      "SOURCE : 345642 \n",
      "\n",
      "20.2138926723601 \n",
      "\n",
      "MAGNITUDE : 716476 \n",
      "\n",
      "41.90106805978983 \n",
      "\n",
      "MAGNITUDE_TYPE : 1284042 \n",
      "\n",
      "75.09355684437253 \n",
      "\n",
      "FLOOD_CAUSE : 1612631 \n",
      "\n",
      "94.31015314724698 \n",
      "\n",
      "CATEGORY : 1709479 \n",
      "\n",
      "99.97403391848638 \n",
      "\n",
      "TOR_F_SCALE : 1639007 \n",
      "\n",
      "95.85267874635291 \n",
      "\n",
      "TOR_LENGTH : 1442367 \n",
      "\n",
      "84.35274570843248 \n",
      "\n",
      "TOR_WIDTH : 1442367 \n",
      "\n",
      "84.35274570843248 \n",
      "\n",
      "TOR_OTHER_WFO : 1707365 \n",
      "\n",
      "99.85040262046887 \n",
      "\n",
      "TOR_OTHER_CZ_STATE : 1707365 \n",
      "\n",
      "99.85040262046887 \n",
      "\n",
      "TOR_OTHER_CZ_FIPS : 1707365 \n",
      "\n",
      "99.85040262046887 \n",
      "\n",
      "TOR_OTHER_CZ_NAME : 1707365 \n",
      "\n",
      "99.85040262046887 \n",
      "\n",
      "BEGIN_RANGE : 766318 \n",
      "\n",
      "44.81593615618949 \n",
      "\n",
      "BEGIN_AZIMUTH : 984815 \n",
      "\n",
      "57.59411388699959 \n",
      "\n",
      "BEGIN_LOCATION : 733907 \n",
      "\n",
      "42.92047068786138 \n",
      "\n",
      "END_RANGE : 766695 \n",
      "\n",
      "44.83798393260983 \n",
      "\n",
      "END_AZIMUTH : 997896 \n",
      "\n",
      "58.35911909483643 \n",
      "\n",
      "END_LOCATION : 773263 \n",
      "\n",
      "45.222094796081464 \n",
      "\n",
      "BEGIN_LAT : 649754 \n",
      "\n",
      "37.99902100854834 \n",
      "\n",
      "BEGIN_LON : 649761 \n",
      "\n",
      "37.99943038370734 \n",
      "\n",
      "END_LAT : 827135 \n",
      "\n",
      "48.372646019733054 \n",
      "\n",
      "END_LON : 827141 \n",
      "\n",
      "48.37299691272648 \n",
      "\n",
      "EPISODE_NARRATIVE : 478885 \n",
      "\n",
      "28.006231859563268 \n",
      "\n",
      "EVENT_NARRATIVE : 845117 \n",
      "\n",
      "49.42427232103434 \n",
      "\n",
      "DATA_SOURCE : 3 \n",
      "\n",
      "0.0001754464967135947 \n",
      "\n"
     ]
    }
   ],
   "source": [
    "# Using data after Year 2005 and checking how many columns have NULL values\n",
    "\n",
    "NOAA_df = NOAA_df[NOAA_df['YEAR']> 1950]\n",
    "\n",
    "for i in NOAA_df.columns:\n",
    "    if NOAA_df[i].isna().sum() > 0:\n",
    "        print(NOAA_df[i].name, \":\", NOAA_df[i].isna().sum(), \"\\n\")\n",
    "        print((NOAA_df[i].isna().sum()/NOAA_df.shape[0])*100, \"\\n\")\n",
    "    else:\n",
    "        continue"
   ]
  },
  {
   "cell_type": "code",
   "execution_count": 7,
   "id": "r0e3ifhABjaI",
   "metadata": {
    "colab": {
     "base_uri": "https://localhost:8080/"
    },
    "executionInfo": {
     "elapsed": 13167,
     "status": "ok",
     "timestamp": 1638566833182,
     "user": {
      "displayName": "Ishan Kuchroo",
      "photoUrl": "https://lh3.googleusercontent.com/a-/AOh14GjqL1VsIRtQxbdkbnsamPgdrsuFIrzKzg-MbkLU=s64",
      "userId": "15481571572392513977"
     },
     "user_tz": 300
    },
    "id": "r0e3ifhABjaI",
    "outputId": "f90128a8-7682-4ac0-f63c-b9331137113d"
   },
   "outputs": [
    {
     "data": {
      "text/plain": [
       "(1198894, 51)"
      ]
     },
     "execution_count": 7,
     "metadata": {},
     "output_type": "execute_result"
    }
   ],
   "source": [
    "# Removing Outliers\n",
    "\n",
    "NOAA_df.shape\n",
    "\n",
    "Q1 = NOAA_df.quantile(0.25)\n",
    "Q3 = NOAA_df.quantile(0.75)\n",
    "IQR = Q3 - Q1\n",
    "\n",
    "NOAA_df = NOAA_df[~((NOAA_df < (Q1 - 1.5 * IQR)) |(NOAA_df > (Q3 + 1.5 * IQR))).any(axis=1)]\n",
    "\n",
    "NOAA_df.shape"
   ]
  },
  {
   "cell_type": "code",
   "execution_count": 8,
   "id": "n9qVb6-NkmqK",
   "metadata": {
    "executionInfo": {
     "elapsed": 1404,
     "status": "ok",
     "timestamp": 1638566835391,
     "user": {
      "displayName": "Ishan Kuchroo",
      "photoUrl": "https://lh3.googleusercontent.com/a-/AOh14GjqL1VsIRtQxbdkbnsamPgdrsuFIrzKzg-MbkLU=s64",
      "userId": "15481571572392513977"
     },
     "user_tz": 300
    },
    "id": "n9qVb6-NkmqK"
   },
   "outputs": [],
   "source": [
    "# Removing inconsistencies\n",
    "NOAA_df = missing_swap(NOAA_df, 'BEGIN_RANGE', 'END_RANGE')\n",
    "NOAA_df = missing_swap(NOAA_df, 'BEGIN_LAT', 'END_LAT')\n",
    "NOAA_df = missing_swap(NOAA_df, 'BEGIN_LON', 'END_LON')\n",
    "NOAA_df = missing_swap(NOAA_df, 'BEGIN_AZIMUTH', 'END_AZIMUTH')\n",
    "NOAA_df = missing_swap(NOAA_df, 'BEGIN_LOCATION', 'END_LOCATION')"
   ]
  },
  {
   "cell_type": "code",
   "execution_count": 9,
   "id": "NjKd_jqswGVI",
   "metadata": {
    "executionInfo": {
     "elapsed": 33499,
     "status": "ok",
     "timestamp": 1638566870820,
     "user": {
      "displayName": "Ishan Kuchroo",
      "photoUrl": "https://lh3.googleusercontent.com/a-/AOh14GjqL1VsIRtQxbdkbnsamPgdrsuFIrzKzg-MbkLU=s64",
      "userId": "15481571572392513977"
     },
     "user_tz": 300
    },
    "id": "NjKd_jqswGVI"
   },
   "outputs": [],
   "source": [
    "# calculating distance w.r.t Latitude and Longitude\n",
    "\n",
    "def geo_distance(x):\n",
    "    # Source : https://en.wikipedia.org/wiki/Haversine_formula\n",
    "    p = pi/180\n",
    "    lat1 = x['BEGIN_LAT']\n",
    "    lat2 = x['END_LAT']\n",
    "    lon1 = x['BEGIN_LON']\n",
    "    lon2 = x['END_LON']\n",
    "    R = 6371\n",
    "    dLat = p * (lat2-lat1)\n",
    "    dLon = p * (lon2-lon1)\n",
    "    a = sin(dLat/2) * 2 + cos(p*lat1) * cos(p*lat2) * sin(dLon/2) * 2\n",
    "    if a < 0 :\n",
    "      return a\n",
    "    else:\n",
    "      return 2 * R * atan2(sqrt(a), sqrt(1-a))\n",
    "\n",
    "NOAA_df['GEO_DISTANCE'] = NOAA_df.apply(lambda x: geo_distance(x), axis=1)"
   ]
  },
  {
   "cell_type": "code",
   "execution_count": 10,
   "id": "0CdjBM8pYe4O",
   "metadata": {
    "executionInfo": {
     "elapsed": 61553,
     "status": "ok",
     "timestamp": 1638566932363,
     "user": {
      "displayName": "Ishan Kuchroo",
      "photoUrl": "https://lh3.googleusercontent.com/a-/AOh14GjqL1VsIRtQxbdkbnsamPgdrsuFIrzKzg-MbkLU=s64",
      "userId": "15481571572392513977"
     },
     "user_tz": 300
    },
    "id": "0CdjBM8pYe4O"
   },
   "outputs": [],
   "source": [
    "# NOAA_df['DURATION_OF_STORM'] = (pd.to_datetime(NOAA_df['END_DATE_TIME']) - pd.to_datetime(NOAA_df['BEGIN_DATE_TIME']))\n",
    "# NOAA_df['DURATION_OF_STORM'] = NOAA_df['DURATION_OF_STORM'].astype('str').str[:-13]\n",
    "\n",
    "# calculate duration of the storm event\n",
    "\n",
    "def calc_duration(x):\n",
    "    begin_dt = dt.strptime(x['BEGIN_DATE_TIME'], \"%d-%b-%y %H:%M:%S\")\n",
    "    end_dt = dt.strptime(x['END_DATE_TIME'], \"%d-%b-%y %H:%M:%S\")\n",
    "    difference = end_dt - begin_dt\n",
    "    difference_days = difference.days + difference.seconds/86400\n",
    "    return difference_days\n",
    "\n",
    "NOAA_df['DURATION_OF_STORM'] = NOAA_df.apply(lambda x: calc_duration(x), axis=1)"
   ]
  },
  {
   "cell_type": "code",
   "execution_count": 11,
   "id": "UiTsw3eGLQrt",
   "metadata": {
    "executionInfo": {
     "elapsed": 1191,
     "status": "ok",
     "timestamp": 1638566934402,
     "user": {
      "displayName": "Ishan Kuchroo",
      "photoUrl": "https://lh3.googleusercontent.com/a-/AOh14GjqL1VsIRtQxbdkbnsamPgdrsuFIrzKzg-MbkLU=s64",
      "userId": "15481571572392513977"
     },
     "user_tz": 300
    },
    "id": "UiTsw3eGLQrt"
   },
   "outputs": [],
   "source": [
    "# Dropping NAN values - if required\n",
    "\n",
    "NOAA_df.dropna(subset=[\"DAMAGE_PROPERTY\"], inplace=True)\n",
    "# NOAA_df.dropna(subset=[\"DAMAGE_CROPS\"], inplace=True)"
   ]
  },
  {
   "cell_type": "code",
   "execution_count": 12,
   "id": "0Rg23j8anZa7",
   "metadata": {
    "executionInfo": {
     "elapsed": 14958,
     "status": "ok",
     "timestamp": 1638566949358,
     "user": {
      "displayName": "Ishan Kuchroo",
      "photoUrl": "https://lh3.googleusercontent.com/a-/AOh14GjqL1VsIRtQxbdkbnsamPgdrsuFIrzKzg-MbkLU=s64",
      "userId": "15481571572392513977"
     },
     "user_tz": 300
    },
    "id": "0Rg23j8anZa7"
   },
   "outputs": [],
   "source": [
    "# impute DAMAGE_PROPERTY and DAMAGE_CROPS with mean value of damage per EVENT_TYPE\n",
    "\n",
    "X = NOAA_df.groupby('EVENT_TYPE')\n",
    "\n",
    "Y = X['DAMAGE_CROPS'].mean()\n",
    "\n",
    "reset_index = Y.reset_index()\n",
    "\n",
    "# Y1 = X['DAMAGE_PROPERTY'].mean()\n",
    "\n",
    "# reset_index1 = Y1.reset_index()\n",
    "\n",
    "NOAA_df = pd.merge(NOAA_df, reset_index, on='EVENT_TYPE', how='inner')\n",
    "\n",
    "# NOAA_df = pd.merge(NOAA_df, reset_index1, on='EVENT_TYPE', how='inner')\n",
    "\n",
    "# NOAA_df.drop(columns=['DAMAGE_CROPS_x','DAMAGE_PROPERTY_x'], inplace=True)\n",
    "\n",
    "# NOAA_df = NOAA_df.rename(columns={\"DAMAGE_CROPS_y\": \"DAMAGE_CROPS\", \"DAMAGE_PROPERTY_y\":\"DAMAGE_PROPERTY\"})\n",
    "\n",
    "NOAA_df.drop(columns=['DAMAGE_CROPS_x'], inplace=True)\n",
    "\n",
    "NOAA_df = NOAA_df.rename(columns={\"DAMAGE_CROPS_y\": \"DAMAGE_CROPS\"})"
   ]
  },
  {
   "cell_type": "code",
   "execution_count": 13,
   "id": "1yh71PF-qrdO",
   "metadata": {
    "id": "1yh71PF-qrdO"
   },
   "outputs": [
    {
     "data": {
      "text/html": [
       "<div>\n",
       "<style scoped>\n",
       "    .dataframe tbody tr th:only-of-type {\n",
       "        vertical-align: middle;\n",
       "    }\n",
       "\n",
       "    .dataframe tbody tr th {\n",
       "        vertical-align: top;\n",
       "    }\n",
       "\n",
       "    .dataframe thead th {\n",
       "        text-align: right;\n",
       "    }\n",
       "</style>\n",
       "<table border=\"1\" class=\"dataframe\">\n",
       "  <thead>\n",
       "    <tr style=\"text-align: right;\">\n",
       "      <th></th>\n",
       "      <th>BEGIN_YEARMONTH</th>\n",
       "      <th>BEGIN_DAY</th>\n",
       "      <th>BEGIN_TIME</th>\n",
       "      <th>END_YEARMONTH</th>\n",
       "      <th>END_DAY</th>\n",
       "      <th>END_TIME</th>\n",
       "      <th>EPISODE_ID</th>\n",
       "      <th>EVENT_ID</th>\n",
       "      <th>STATE</th>\n",
       "      <th>STATE_FIPS</th>\n",
       "      <th>...</th>\n",
       "      <th>BEGIN_LAT</th>\n",
       "      <th>BEGIN_LON</th>\n",
       "      <th>END_LAT</th>\n",
       "      <th>END_LON</th>\n",
       "      <th>EPISODE_NARRATIVE</th>\n",
       "      <th>EVENT_NARRATIVE</th>\n",
       "      <th>DATA_SOURCE</th>\n",
       "      <th>GEO_DISTANCE</th>\n",
       "      <th>DURATION_OF_STORM</th>\n",
       "      <th>DAMAGE_CROPS</th>\n",
       "    </tr>\n",
       "  </thead>\n",
       "  <tbody>\n",
       "    <tr>\n",
       "      <th>0</th>\n",
       "      <td>197908</td>\n",
       "      <td>8</td>\n",
       "      <td>2000</td>\n",
       "      <td>197908</td>\n",
       "      <td>8</td>\n",
       "      <td>2000</td>\n",
       "      <td>NaN</td>\n",
       "      <td>9986735</td>\n",
       "      <td>COLORADO</td>\n",
       "      <td>8.0</td>\n",
       "      <td>...</td>\n",
       "      <td>39.98</td>\n",
       "      <td>-103.58</td>\n",
       "      <td>39.98</td>\n",
       "      <td>-103.58</td>\n",
       "      <td>NaN</td>\n",
       "      <td>NaN</td>\n",
       "      <td>PUB</td>\n",
       "      <td>0.0</td>\n",
       "      <td>0.000000</td>\n",
       "      <td>0.0</td>\n",
       "    </tr>\n",
       "    <tr>\n",
       "      <th>1</th>\n",
       "      <td>197908</td>\n",
       "      <td>30</td>\n",
       "      <td>1650</td>\n",
       "      <td>197908</td>\n",
       "      <td>30</td>\n",
       "      <td>1650</td>\n",
       "      <td>NaN</td>\n",
       "      <td>9986744</td>\n",
       "      <td>COLORADO</td>\n",
       "      <td>8.0</td>\n",
       "      <td>...</td>\n",
       "      <td>40.58</td>\n",
       "      <td>-105.08</td>\n",
       "      <td>40.58</td>\n",
       "      <td>-105.08</td>\n",
       "      <td>NaN</td>\n",
       "      <td>NaN</td>\n",
       "      <td>PUB</td>\n",
       "      <td>0.0</td>\n",
       "      <td>0.000000</td>\n",
       "      <td>0.0</td>\n",
       "    </tr>\n",
       "    <tr>\n",
       "      <th>2</th>\n",
       "      <td>197908</td>\n",
       "      <td>30</td>\n",
       "      <td>1700</td>\n",
       "      <td>197908</td>\n",
       "      <td>30</td>\n",
       "      <td>1700</td>\n",
       "      <td>NaN</td>\n",
       "      <td>9986745</td>\n",
       "      <td>COLORADO</td>\n",
       "      <td>8.0</td>\n",
       "      <td>...</td>\n",
       "      <td>39.73</td>\n",
       "      <td>-104.85</td>\n",
       "      <td>39.73</td>\n",
       "      <td>-104.85</td>\n",
       "      <td>NaN</td>\n",
       "      <td>NaN</td>\n",
       "      <td>PUB</td>\n",
       "      <td>0.0</td>\n",
       "      <td>0.000000</td>\n",
       "      <td>0.0</td>\n",
       "    </tr>\n",
       "    <tr>\n",
       "      <th>3</th>\n",
       "      <td>197908</td>\n",
       "      <td>1</td>\n",
       "      <td>2000</td>\n",
       "      <td>197908</td>\n",
       "      <td>1</td>\n",
       "      <td>2000</td>\n",
       "      <td>NaN</td>\n",
       "      <td>9986733</td>\n",
       "      <td>COLORADO</td>\n",
       "      <td>8.0</td>\n",
       "      <td>...</td>\n",
       "      <td>40.33</td>\n",
       "      <td>-103.80</td>\n",
       "      <td>40.33</td>\n",
       "      <td>-103.80</td>\n",
       "      <td>NaN</td>\n",
       "      <td>NaN</td>\n",
       "      <td>PUB</td>\n",
       "      <td>0.0</td>\n",
       "      <td>0.000000</td>\n",
       "      <td>0.0</td>\n",
       "    </tr>\n",
       "    <tr>\n",
       "      <th>4</th>\n",
       "      <td>197908</td>\n",
       "      <td>8</td>\n",
       "      <td>1900</td>\n",
       "      <td>197908</td>\n",
       "      <td>8</td>\n",
       "      <td>1900</td>\n",
       "      <td>NaN</td>\n",
       "      <td>9986734</td>\n",
       "      <td>COLORADO</td>\n",
       "      <td>8.0</td>\n",
       "      <td>...</td>\n",
       "      <td>40.63</td>\n",
       "      <td>-103.20</td>\n",
       "      <td>40.63</td>\n",
       "      <td>-103.20</td>\n",
       "      <td>NaN</td>\n",
       "      <td>NaN</td>\n",
       "      <td>PUB</td>\n",
       "      <td>0.0</td>\n",
       "      <td>0.000000</td>\n",
       "      <td>0.0</td>\n",
       "    </tr>\n",
       "    <tr>\n",
       "      <th>...</th>\n",
       "      <td>...</td>\n",
       "      <td>...</td>\n",
       "      <td>...</td>\n",
       "      <td>...</td>\n",
       "      <td>...</td>\n",
       "      <td>...</td>\n",
       "      <td>...</td>\n",
       "      <td>...</td>\n",
       "      <td>...</td>\n",
       "      <td>...</td>\n",
       "      <td>...</td>\n",
       "      <td>...</td>\n",
       "      <td>...</td>\n",
       "      <td>...</td>\n",
       "      <td>...</td>\n",
       "      <td>...</td>\n",
       "      <td>...</td>\n",
       "      <td>...</td>\n",
       "      <td>...</td>\n",
       "      <td>...</td>\n",
       "      <td>...</td>\n",
       "    </tr>\n",
       "    <tr>\n",
       "      <th>742132</th>\n",
       "      <td>201806</td>\n",
       "      <td>15</td>\n",
       "      <td>1001</td>\n",
       "      <td>201806</td>\n",
       "      <td>16</td>\n",
       "      <td>1015</td>\n",
       "      <td>126097.0</td>\n",
       "      <td>755819</td>\n",
       "      <td>HAWAII</td>\n",
       "      <td>15.0</td>\n",
       "      <td>...</td>\n",
       "      <td>NaN</td>\n",
       "      <td>NaN</td>\n",
       "      <td>NaN</td>\n",
       "      <td>NaN</td>\n",
       "      <td>Halemaumau Crater on the Kilauea Volcano Summi...</td>\n",
       "      <td>NaN</td>\n",
       "      <td>CSV</td>\n",
       "      <td>NaN</td>\n",
       "      <td>1.009722</td>\n",
       "      <td>0.0</td>\n",
       "    </tr>\n",
       "    <tr>\n",
       "      <th>742133</th>\n",
       "      <td>201806</td>\n",
       "      <td>17</td>\n",
       "      <td>318</td>\n",
       "      <td>201806</td>\n",
       "      <td>18</td>\n",
       "      <td>1000</td>\n",
       "      <td>126097.0</td>\n",
       "      <td>755844</td>\n",
       "      <td>HAWAII</td>\n",
       "      <td>15.0</td>\n",
       "      <td>...</td>\n",
       "      <td>NaN</td>\n",
       "      <td>NaN</td>\n",
       "      <td>NaN</td>\n",
       "      <td>NaN</td>\n",
       "      <td>Halemaumau Crater on the Kilauea Volcano Summi...</td>\n",
       "      <td>NaN</td>\n",
       "      <td>CSV</td>\n",
       "      <td>NaN</td>\n",
       "      <td>1.279167</td>\n",
       "      <td>0.0</td>\n",
       "    </tr>\n",
       "    <tr>\n",
       "      <th>742134</th>\n",
       "      <td>201806</td>\n",
       "      <td>17</td>\n",
       "      <td>318</td>\n",
       "      <td>201806</td>\n",
       "      <td>18</td>\n",
       "      <td>1000</td>\n",
       "      <td>126097.0</td>\n",
       "      <td>755845</td>\n",
       "      <td>HAWAII</td>\n",
       "      <td>15.0</td>\n",
       "      <td>...</td>\n",
       "      <td>NaN</td>\n",
       "      <td>NaN</td>\n",
       "      <td>NaN</td>\n",
       "      <td>NaN</td>\n",
       "      <td>Halemaumau Crater on the Kilauea Volcano Summi...</td>\n",
       "      <td>NaN</td>\n",
       "      <td>CSV</td>\n",
       "      <td>NaN</td>\n",
       "      <td>1.279167</td>\n",
       "      <td>0.0</td>\n",
       "    </tr>\n",
       "    <tr>\n",
       "      <th>742135</th>\n",
       "      <td>201908</td>\n",
       "      <td>11</td>\n",
       "      <td>1630</td>\n",
       "      <td>201908</td>\n",
       "      <td>15</td>\n",
       "      <td>1000</td>\n",
       "      <td>141305.0</td>\n",
       "      <td>848662</td>\n",
       "      <td>IDAHO</td>\n",
       "      <td>16.0</td>\n",
       "      <td>...</td>\n",
       "      <td>NaN</td>\n",
       "      <td>NaN</td>\n",
       "      <td>NaN</td>\n",
       "      <td>NaN</td>\n",
       "      <td>The Desert Ride Fire about 12 miles west of Re...</td>\n",
       "      <td>The Desert Ride Fire about 12 miles west of Re...</td>\n",
       "      <td>CSV</td>\n",
       "      <td>NaN</td>\n",
       "      <td>3.729167</td>\n",
       "      <td>0.0</td>\n",
       "    </tr>\n",
       "    <tr>\n",
       "      <th>742136</th>\n",
       "      <td>201910</td>\n",
       "      <td>17</td>\n",
       "      <td>1100</td>\n",
       "      <td>201910</td>\n",
       "      <td>17</td>\n",
       "      <td>2300</td>\n",
       "      <td>143226.0</td>\n",
       "      <td>859095</td>\n",
       "      <td>OREGON</td>\n",
       "      <td>41.0</td>\n",
       "      <td>...</td>\n",
       "      <td>NaN</td>\n",
       "      <td>NaN</td>\n",
       "      <td>NaN</td>\n",
       "      <td>NaN</td>\n",
       "      <td>Elevated seas created dangerous conditions in ...</td>\n",
       "      <td>The broadcast media reported family members ge...</td>\n",
       "      <td>CSV</td>\n",
       "      <td>NaN</td>\n",
       "      <td>0.500000</td>\n",
       "      <td>0.0</td>\n",
       "    </tr>\n",
       "  </tbody>\n",
       "</table>\n",
       "<p>742137 rows × 53 columns</p>\n",
       "</div>"
      ],
      "text/plain": [
       "        BEGIN_YEARMONTH  BEGIN_DAY  BEGIN_TIME  END_YEARMONTH  END_DAY  \\\n",
       "0                197908          8        2000         197908        8   \n",
       "1                197908         30        1650         197908       30   \n",
       "2                197908         30        1700         197908       30   \n",
       "3                197908          1        2000         197908        1   \n",
       "4                197908          8        1900         197908        8   \n",
       "...                 ...        ...         ...            ...      ...   \n",
       "742132           201806         15        1001         201806       16   \n",
       "742133           201806         17         318         201806       18   \n",
       "742134           201806         17         318         201806       18   \n",
       "742135           201908         11        1630         201908       15   \n",
       "742136           201910         17        1100         201910       17   \n",
       "\n",
       "        END_TIME  EPISODE_ID  EVENT_ID     STATE  STATE_FIPS  ...  BEGIN_LAT  \\\n",
       "0           2000         NaN   9986735  COLORADO         8.0  ...      39.98   \n",
       "1           1650         NaN   9986744  COLORADO         8.0  ...      40.58   \n",
       "2           1700         NaN   9986745  COLORADO         8.0  ...      39.73   \n",
       "3           2000         NaN   9986733  COLORADO         8.0  ...      40.33   \n",
       "4           1900         NaN   9986734  COLORADO         8.0  ...      40.63   \n",
       "...          ...         ...       ...       ...         ...  ...        ...   \n",
       "742132      1015    126097.0    755819    HAWAII        15.0  ...        NaN   \n",
       "742133      1000    126097.0    755844    HAWAII        15.0  ...        NaN   \n",
       "742134      1000    126097.0    755845    HAWAII        15.0  ...        NaN   \n",
       "742135      1000    141305.0    848662     IDAHO        16.0  ...        NaN   \n",
       "742136      2300    143226.0    859095    OREGON        41.0  ...        NaN   \n",
       "\n",
       "       BEGIN_LON END_LAT END_LON  \\\n",
       "0        -103.58   39.98 -103.58   \n",
       "1        -105.08   40.58 -105.08   \n",
       "2        -104.85   39.73 -104.85   \n",
       "3        -103.80   40.33 -103.80   \n",
       "4        -103.20   40.63 -103.20   \n",
       "...          ...     ...     ...   \n",
       "742132       NaN     NaN     NaN   \n",
       "742133       NaN     NaN     NaN   \n",
       "742134       NaN     NaN     NaN   \n",
       "742135       NaN     NaN     NaN   \n",
       "742136       NaN     NaN     NaN   \n",
       "\n",
       "                                        EPISODE_NARRATIVE  \\\n",
       "0                                                     NaN   \n",
       "1                                                     NaN   \n",
       "2                                                     NaN   \n",
       "3                                                     NaN   \n",
       "4                                                     NaN   \n",
       "...                                                   ...   \n",
       "742132  Halemaumau Crater on the Kilauea Volcano Summi...   \n",
       "742133  Halemaumau Crater on the Kilauea Volcano Summi...   \n",
       "742134  Halemaumau Crater on the Kilauea Volcano Summi...   \n",
       "742135  The Desert Ride Fire about 12 miles west of Re...   \n",
       "742136  Elevated seas created dangerous conditions in ...   \n",
       "\n",
       "                                          EVENT_NARRATIVE DATA_SOURCE  \\\n",
       "0                                                     NaN         PUB   \n",
       "1                                                     NaN         PUB   \n",
       "2                                                     NaN         PUB   \n",
       "3                                                     NaN         PUB   \n",
       "4                                                     NaN         PUB   \n",
       "...                                                   ...         ...   \n",
       "742132                                                NaN         CSV   \n",
       "742133                                                NaN         CSV   \n",
       "742134                                                NaN         CSV   \n",
       "742135  The Desert Ride Fire about 12 miles west of Re...         CSV   \n",
       "742136  The broadcast media reported family members ge...         CSV   \n",
       "\n",
       "       GEO_DISTANCE DURATION_OF_STORM DAMAGE_CROPS  \n",
       "0               0.0          0.000000          0.0  \n",
       "1               0.0          0.000000          0.0  \n",
       "2               0.0          0.000000          0.0  \n",
       "3               0.0          0.000000          0.0  \n",
       "4               0.0          0.000000          0.0  \n",
       "...             ...               ...          ...  \n",
       "742132          NaN          1.009722          0.0  \n",
       "742133          NaN          1.279167          0.0  \n",
       "742134          NaN          1.279167          0.0  \n",
       "742135          NaN          3.729167          0.0  \n",
       "742136          NaN          0.500000          0.0  \n",
       "\n",
       "[742137 rows x 53 columns]"
      ]
     },
     "execution_count": 13,
     "metadata": {},
     "output_type": "execute_result"
    }
   ],
   "source": [
    "# Update EVENT_TYPE column\n",
    "\n",
    "NOAA_df.replace({'EVENT_TYPE' : { 'THUNDERSTORMWIND/TREE' : 'ThunderstormWind', 'THUNDERSTORMWIND/TREES' : 'ThunderstormWind', 'THUNDERSTORMWINDS/FLASHFLOOD' : 'ThunderstormWind'\n",
    "                                 , 'THUNDERSTORMWINDS/FLOODING' : 'ThunderstormWind', 'THUNDERSTORMWINDS/HEAVYRAIN' : 'ThunderstormWind'\n",
    "                                 , 'THUNDERSTORMWINDSFUNNELCLOU': 'ThunderstormWind', 'THUNDERSTORMWINDSHEAVYRAIN': 'ThunderstormWind'\n",
    "                                 , 'THUNDERSTORMWINDSLIGHTNING': 'ThunderstormWind', 'HAIL/ICYROADS': 'Hail', 'HAILFLOODING': 'Hail'}})"
   ]
  },
  {
   "cell_type": "code",
   "execution_count": 14,
   "id": "d90b29aa",
   "metadata": {
    "id": "d90b29aa"
   },
   "outputs": [
    {
     "data": {
      "text/html": [
       "<div>\n",
       "<style scoped>\n",
       "    .dataframe tbody tr th:only-of-type {\n",
       "        vertical-align: middle;\n",
       "    }\n",
       "\n",
       "    .dataframe tbody tr th {\n",
       "        vertical-align: top;\n",
       "    }\n",
       "\n",
       "    .dataframe thead th {\n",
       "        text-align: right;\n",
       "    }\n",
       "</style>\n",
       "<table border=\"1\" class=\"dataframe\">\n",
       "  <thead>\n",
       "    <tr style=\"text-align: right;\">\n",
       "      <th></th>\n",
       "      <th>BEGIN_YEARMONTH</th>\n",
       "      <th>BEGIN_DAY</th>\n",
       "      <th>BEGIN_TIME</th>\n",
       "      <th>END_YEARMONTH</th>\n",
       "      <th>END_DAY</th>\n",
       "      <th>END_TIME</th>\n",
       "      <th>STATE</th>\n",
       "      <th>YEAR</th>\n",
       "      <th>MONTH_NAME</th>\n",
       "      <th>EVENT_TYPE</th>\n",
       "      <th>...</th>\n",
       "      <th>BEGIN_AZIMUTH</th>\n",
       "      <th>BEGIN_LOCATION</th>\n",
       "      <th>END_RANGE</th>\n",
       "      <th>END_AZIMUTH</th>\n",
       "      <th>END_LOCATION</th>\n",
       "      <th>GEO_DISTANCE</th>\n",
       "      <th>DURATION_OF_STORM</th>\n",
       "      <th>DAMAGE_CROPS</th>\n",
       "      <th>WIND_SPEED</th>\n",
       "      <th>HAIL_SIZE</th>\n",
       "    </tr>\n",
       "  </thead>\n",
       "  <tbody>\n",
       "    <tr>\n",
       "      <th>0</th>\n",
       "      <td>197908</td>\n",
       "      <td>8</td>\n",
       "      <td>2000</td>\n",
       "      <td>197908</td>\n",
       "      <td>8</td>\n",
       "      <td>2000</td>\n",
       "      <td>COLORADO</td>\n",
       "      <td>1979</td>\n",
       "      <td>August</td>\n",
       "      <td>Thunderstorm Wind</td>\n",
       "      <td>...</td>\n",
       "      <td>NA</td>\n",
       "      <td>NA</td>\n",
       "      <td>0.0</td>\n",
       "      <td>NA</td>\n",
       "      <td>NA</td>\n",
       "      <td>0.0</td>\n",
       "      <td>0.0</td>\n",
       "      <td>0.0</td>\n",
       "      <td>0.0</td>\n",
       "      <td>56.0</td>\n",
       "    </tr>\n",
       "    <tr>\n",
       "      <th>1</th>\n",
       "      <td>197908</td>\n",
       "      <td>30</td>\n",
       "      <td>1650</td>\n",
       "      <td>197908</td>\n",
       "      <td>30</td>\n",
       "      <td>1650</td>\n",
       "      <td>COLORADO</td>\n",
       "      <td>1979</td>\n",
       "      <td>August</td>\n",
       "      <td>Thunderstorm Wind</td>\n",
       "      <td>...</td>\n",
       "      <td>NA</td>\n",
       "      <td>NA</td>\n",
       "      <td>0.0</td>\n",
       "      <td>NA</td>\n",
       "      <td>NA</td>\n",
       "      <td>0.0</td>\n",
       "      <td>0.0</td>\n",
       "      <td>0.0</td>\n",
       "      <td>0.0</td>\n",
       "      <td>50.0</td>\n",
       "    </tr>\n",
       "    <tr>\n",
       "      <th>2</th>\n",
       "      <td>197908</td>\n",
       "      <td>30</td>\n",
       "      <td>1700</td>\n",
       "      <td>197908</td>\n",
       "      <td>30</td>\n",
       "      <td>1700</td>\n",
       "      <td>COLORADO</td>\n",
       "      <td>1979</td>\n",
       "      <td>August</td>\n",
       "      <td>Thunderstorm Wind</td>\n",
       "      <td>...</td>\n",
       "      <td>NA</td>\n",
       "      <td>NA</td>\n",
       "      <td>0.0</td>\n",
       "      <td>NA</td>\n",
       "      <td>NA</td>\n",
       "      <td>0.0</td>\n",
       "      <td>0.0</td>\n",
       "      <td>0.0</td>\n",
       "      <td>0.0</td>\n",
       "      <td>50.0</td>\n",
       "    </tr>\n",
       "    <tr>\n",
       "      <th>3</th>\n",
       "      <td>197908</td>\n",
       "      <td>1</td>\n",
       "      <td>2000</td>\n",
       "      <td>197908</td>\n",
       "      <td>1</td>\n",
       "      <td>2000</td>\n",
       "      <td>COLORADO</td>\n",
       "      <td>1979</td>\n",
       "      <td>August</td>\n",
       "      <td>Thunderstorm Wind</td>\n",
       "      <td>...</td>\n",
       "      <td>NA</td>\n",
       "      <td>NA</td>\n",
       "      <td>0.0</td>\n",
       "      <td>NA</td>\n",
       "      <td>NA</td>\n",
       "      <td>0.0</td>\n",
       "      <td>0.0</td>\n",
       "      <td>0.0</td>\n",
       "      <td>0.0</td>\n",
       "      <td>61.0</td>\n",
       "    </tr>\n",
       "    <tr>\n",
       "      <th>4</th>\n",
       "      <td>197908</td>\n",
       "      <td>8</td>\n",
       "      <td>1900</td>\n",
       "      <td>197908</td>\n",
       "      <td>8</td>\n",
       "      <td>1900</td>\n",
       "      <td>COLORADO</td>\n",
       "      <td>1979</td>\n",
       "      <td>August</td>\n",
       "      <td>Thunderstorm Wind</td>\n",
       "      <td>...</td>\n",
       "      <td>NA</td>\n",
       "      <td>NA</td>\n",
       "      <td>0.0</td>\n",
       "      <td>NA</td>\n",
       "      <td>NA</td>\n",
       "      <td>0.0</td>\n",
       "      <td>0.0</td>\n",
       "      <td>0.0</td>\n",
       "      <td>0.0</td>\n",
       "      <td>0.0</td>\n",
       "    </tr>\n",
       "  </tbody>\n",
       "</table>\n",
       "<p>5 rows × 36 columns</p>\n",
       "</div>"
      ],
      "text/plain": [
       "   BEGIN_YEARMONTH  BEGIN_DAY  BEGIN_TIME  END_YEARMONTH  END_DAY  END_TIME  \\\n",
       "0           197908          8        2000         197908        8      2000   \n",
       "1           197908         30        1650         197908       30      1650   \n",
       "2           197908         30        1700         197908       30      1700   \n",
       "3           197908          1        2000         197908        1      2000   \n",
       "4           197908          8        1900         197908        8      1900   \n",
       "\n",
       "      STATE  YEAR MONTH_NAME         EVENT_TYPE  ... BEGIN_AZIMUTH  \\\n",
       "0  COLORADO  1979     August  Thunderstorm Wind  ...            NA   \n",
       "1  COLORADO  1979     August  Thunderstorm Wind  ...            NA   \n",
       "2  COLORADO  1979     August  Thunderstorm Wind  ...            NA   \n",
       "3  COLORADO  1979     August  Thunderstorm Wind  ...            NA   \n",
       "4  COLORADO  1979     August  Thunderstorm Wind  ...            NA   \n",
       "\n",
       "  BEGIN_LOCATION END_RANGE  END_AZIMUTH  END_LOCATION  GEO_DISTANCE  \\\n",
       "0             NA       0.0           NA            NA           0.0   \n",
       "1             NA       0.0           NA            NA           0.0   \n",
       "2             NA       0.0           NA            NA           0.0   \n",
       "3             NA       0.0           NA            NA           0.0   \n",
       "4             NA       0.0           NA            NA           0.0   \n",
       "\n",
       "   DURATION_OF_STORM  DAMAGE_CROPS WIND_SPEED HAIL_SIZE  \n",
       "0                0.0           0.0        0.0      56.0  \n",
       "1                0.0           0.0        0.0      50.0  \n",
       "2                0.0           0.0        0.0      50.0  \n",
       "3                0.0           0.0        0.0      61.0  \n",
       "4                0.0           0.0        0.0       0.0  \n",
       "\n",
       "[5 rows x 36 columns]"
      ]
     },
     "execution_count": 14,
     "metadata": {},
     "output_type": "execute_result"
    }
   ],
   "source": [
    "def impute_NOAA_data(df):\n",
    "    \n",
    "    # magnitude converted into other variables\n",
    "    drop_list = ['EVENT_NARRATIVE', 'EPISODE_NARRATIVE', 'EPISODE_ID', 'MAGNITUDE', 'BEGIN_LAT', 'END_LAT', 'BEGIN_LON', 'END_LON','BEGIN_DATE_TIME','END_DATE_TIME','STATE_FIPS', 'TOR_OTHER_CZ_FIPS', 'WFO', 'SOURCE'\n",
    "               , 'CATEGORY', 'CZ_FIPS','DATA_SOURCE', 'TOR_OTHER_WFO', 'EVENT_ID']\n",
    "    #  impute_mean_list = ['BEGIN_LAT', 'END_LAT', 'BEGIN_LON', 'END_LON'] # removed because for events like DROUGHT there should be no travelled distance and added to drop list\n",
    "    # Instead impute GEO_DISTANCE to 0\n",
    "    \n",
    "    # imputing damage columns with 0 for the time-being\n",
    "    impute_zero_list = ['BEGIN_RANGE', 'END_RANGE', 'WIND_SPEED', 'HAIL_SIZE','GEO_DISTANCE']\n",
    "    impute_NA_list = ['CZ_NAME', 'STATE', 'MAGNITUDE_TYPE', 'BEGIN_AZIMUTH', 'END_AZIMUTH', 'BEGIN_LOCATION', 'END_LOCATION', 'FLOOD_CAUSE', 'TOR_F_SCALE', 'TOR_LENGTH', 'TOR_WIDTH','TOR_OTHER_CZ_STATE', 'TOR_OTHER_CZ_NAME']\n",
    "      \n",
    "    # Splitting magnitude variable into constituent attributes\n",
    "    df['WIND_SPEED'] = df.apply(winds, axis = 1)\n",
    "    df['HAIL_SIZE'] = df.apply(hail, axis = 1)\n",
    "    \n",
    "    # Imputing string columns with missing values with NA\n",
    "    for col in impute_NA_list:\n",
    "        df[col] = df[col].astype('str').apply(lambda x: 'NA' if x=='nan' else x) # changed from N/A to NA\n",
    "        \n",
    "    # Imputing float columns having missing values with 0.0\n",
    "    for col in impute_zero_list:\n",
    "        df[col] = df[col].fillna(0.0)\n",
    "        \n",
    "    # Imputing latitude and longitudes with average value\n",
    "    # for col in impute_mean_list:\n",
    "    #     df[col] = df[col].fillna(np.mean)\n",
    "        \n",
    "    # Dropping text and ID columns\n",
    "    for col in drop_list:\n",
    "        df.drop(col, axis=1, inplace=True)\n",
    "    \n",
    "    return df\n",
    "\n",
    "imputed_NOAA_df = impute_NOAA_data(NOAA_df.copy())\n",
    "imputed_NOAA_df.head()"
   ]
  },
  {
   "cell_type": "code",
   "execution_count": 15,
   "id": "e005724b",
   "metadata": {
    "id": "e005724b"
   },
   "outputs": [],
   "source": [
    "def get_EPA_data():\n",
    "    \n",
    "    ground_temp_df = pd.read_csv('https://www.epa.gov/sites/default/files/2021-04/temperature_fig-1.csv', skiprows=6, usecols = [0, 1], encoding='latin1')\n",
    "    ground_temp_df.columns = [\"YEAR\", \"SURFACE_TEMP_DIFF\"]\n",
    "    \n",
    "    greenhouse_df = pd.read_csv(\"https://www.epa.gov/sites/default/files/2021-04/us-ghg-emissions_fig-1.csv\",skiprows=6)\n",
    "    greenhouse_df.columns = [\"YEAR\", \"CO2\", \"METHANE\", \"N2O\", \"HFC_PFC_SF6_NF3\"]\n",
    "    \n",
    "    precipitation_df =  pd.read_csv('https://www.epa.gov/sites/default/files/2021-04/heavy-precip_fig-1.csv',skiprows=6)\n",
    "    precipitation_df.columns = [\"YEAR\", \"PPT_LAND_AREA\", \"PPT_NINE_YEAR_AVG\"]\n",
    "    \n",
    "    sea_level_df = pd.read_csv('https://www.epa.gov/sites/default/files/2021-04/sea-level_fig-1.csv', skiprows=6)\n",
    "    sea_level_df.columns = [\"YEAR\", \"CSIRO_ADJ_SEA_LEVEL\", \"CSIRO_LOWER\", \"CSIRO_UPPER\", \"NOAA_ADJ_SEA_LEVEL\"]\n",
    "    sea_level_df.loc[sea_level_df['YEAR'] > 1992, 'CSIRO_ADJ_SEA_LEVEL'] = sea_level_df.loc[sea_level_df['YEAR'] > 1992, 'NOAA_ADJ_SEA_LEVEL']\n",
    "    sea_level_df.drop(['CSIRO_LOWER', 'CSIRO_UPPER', 'NOAA_ADJ_SEA_LEVEL'], axis=1, inplace=True)\n",
    "    \n",
    "    seasonal_temp_df = pd.read_csv('https://www.epa.gov/sites/default/files/2021-04/seasonal-temperature_fig-1.csv', skiprows=6)\n",
    "    seasonal_temp_df.columns = [\"YEAR\", \"WINTER_ANOMALY\", \"SPRING_ANOMALY\", \"SUMMER_ANOMALY\", \"FALL_ANOMALY\"]\n",
    "    \n",
    "    arctic_ice_df = pd.read_csv('https://www.epa.gov/sites/default/files/2021-03/arctic-sea-ice_fig-1.csv', skiprows=6)\n",
    "    arctic_ice_df.columns = [\"YEAR\", \"ICE_CVG_MARCH\", \"ICE_CVG_SEP\"]\n",
    "    \n",
    "    glacier_df = pd.read_csv('https://www.epa.gov/sites/default/files/2021-03/glaciers_fig-1.csv', skiprows=6)\n",
    "    glacier_df.columns = [\"YEAR\", \"GLACIER_MASS_BAL\", \"NUM_OBS\"]\n",
    "    glacier_df.drop(['NUM_OBS'], axis=1, inplace=True)\n",
    "    \n",
    "    dfs = [ground_temp_df, greenhouse_df, precipitation_df, sea_level_df, seasonal_temp_df, arctic_ice_df, glacier_df]\n",
    "    epa_df = reduce(lambda left, right: pd.merge(left, right, how=\"outer\", on=\"YEAR\"), dfs)\n",
    "    epa_df = epa_df[epa_df.YEAR >= 1950]\n",
    "    \n",
    "    return epa_df\n",
    "\n",
    "epa_source_df = get_EPA_data()"
   ]
  },
  {
   "cell_type": "code",
   "execution_count": 18,
   "id": "0f250302",
   "metadata": {},
   "outputs": [],
   "source": [
    "imputed_NOAA_df.to_pickle('Data/imputed_NOAA_df.pkl')"
   ]
  },
  {
   "cell_type": "code",
   "execution_count": 19,
   "id": "aa96f2db",
   "metadata": {},
   "outputs": [
    {
     "name": "stdout",
     "output_type": "stream",
     "text": [
      "<class 'pandas.core.frame.DataFrame'>\n",
      "Int64Index: 1165719 entries, 0 to 1165718\n",
      "Data columns (total 36 columns):\n",
      " #   Column              Non-Null Count    Dtype  \n",
      "---  ------              --------------    -----  \n",
      " 0   BEGIN_YEARMONTH     1165719 non-null  int64  \n",
      " 1   BEGIN_DAY           1165719 non-null  int64  \n",
      " 2   BEGIN_TIME          1165719 non-null  int64  \n",
      " 3   END_YEARMONTH       1165719 non-null  int64  \n",
      " 4   END_DAY             1165719 non-null  int64  \n",
      " 5   END_TIME            1165719 non-null  int64  \n",
      " 6   STATE               1165719 non-null  object \n",
      " 7   YEAR                1165719 non-null  int64  \n",
      " 8   MONTH_NAME          1165719 non-null  object \n",
      " 9   EVENT_TYPE          1165719 non-null  object \n",
      " 10  CZ_TYPE             1165719 non-null  object \n",
      " 11  CZ_NAME             1165719 non-null  object \n",
      " 12  CZ_TIMEZONE         1165719 non-null  object \n",
      " 13  INJURIES_DIRECT     1165719 non-null  int64  \n",
      " 14  INJURIES_INDIRECT   1165719 non-null  int64  \n",
      " 15  DEATHS_DIRECT       1165719 non-null  int64  \n",
      " 16  DEATHS_INDIRECT     1165719 non-null  int64  \n",
      " 17  DAMAGE_PROPERTY     1165719 non-null  float64\n",
      " 18  MAGNITUDE_TYPE      1165719 non-null  object \n",
      " 19  FLOOD_CAUSE         1165719 non-null  object \n",
      " 20  TOR_F_SCALE         1165719 non-null  object \n",
      " 21  TOR_LENGTH          1165719 non-null  object \n",
      " 22  TOR_WIDTH           1165719 non-null  object \n",
      " 23  TOR_OTHER_CZ_STATE  1165719 non-null  object \n",
      " 24  TOR_OTHER_CZ_NAME   1165719 non-null  object \n",
      " 25  BEGIN_RANGE         1165719 non-null  float64\n",
      " 26  BEGIN_AZIMUTH       1165719 non-null  object \n",
      " 27  BEGIN_LOCATION      1165719 non-null  object \n",
      " 28  END_RANGE           1165719 non-null  float64\n",
      " 29  END_AZIMUTH         1165719 non-null  object \n",
      " 30  END_LOCATION        1165719 non-null  object \n",
      " 31  GEO_DISTANCE        1165719 non-null  float64\n",
      " 32  DURATION_OF_STORM   1165719 non-null  float64\n",
      " 33  DAMAGE_CROPS        1165714 non-null  float64\n",
      " 34  WIND_SPEED          1165719 non-null  float64\n",
      " 35  HAIL_SIZE           1165719 non-null  float64\n",
      "dtypes: float64(8), int64(11), object(17)\n",
      "memory usage: 329.1+ MB\n"
     ]
    }
   ],
   "source": [
    "imputed_NOAA_df.info()"
   ]
  },
  {
   "cell_type": "code",
   "execution_count": null,
   "id": "0262bef9",
   "metadata": {
    "id": "0262bef9"
   },
   "outputs": [],
   "source": [
    "def impute_EPA_DATA(df, breaks):\n",
    "    fillable_cols = df.columns[df.isnull().sum() > 0]\n",
    "    for col in fillable_cols:\n",
    "        temp_df = df[['YEAR', col]]\n",
    "        present_df = temp_df[~ temp_df[col].isnull()]\n",
    "        null_df = temp_df[temp_df[col].isnull()]\n",
    "        years = sorted(np.random.choice(present_df['YEAR'], breaks))\n",
    "        input_df = present_df[present_df['YEAR'].isin(years)]\n",
    "        func = scipy.interpolate.interp1d(input_df['YEAR'], input_df[col], fill_value=\"extrapolate\")\n",
    "        temp_df['INTERPOLATION'] = func(temp_df['YEAR'])\n",
    "        df[col] = temp_df.apply(lambda x: x['INTERPOLATION'] if isnan(x[col]) else x[col], axis=1)\n",
    "    return df\n",
    "        \n",
    "imputed_EPA_df = impute_EPA_DATA(epa_source_df.copy(), 6)\n",
    "imputed_EPA_df.head()"
   ]
  },
  {
   "cell_type": "code",
   "execution_count": 53,
   "id": "eb7e4bbe",
   "metadata": {
    "executionInfo": {
     "elapsed": 3028,
     "status": "ok",
     "timestamp": 1638558162770,
     "user": {
      "displayName": "Ishan Kuchroo",
      "photoUrl": "https://lh3.googleusercontent.com/a-/AOh14GjqL1VsIRtQxbdkbnsamPgdrsuFIrzKzg-MbkLU=s64",
      "userId": "15481571572392513977"
     },
     "user_tz": 300
    },
    "id": "eb7e4bbe"
   },
   "outputs": [],
   "source": [
    "#cleaned_df = pd.merge(imputed_NOAA_df, imputed_EPA_df, on='YEAR', how='inner')\n",
    "cleaned_df = imputed_NOAA_df\n",
    "cleaned_df.to_pickle('/content/drive/MyDrive/cleaned.pkl')"
   ]
  },
  {
   "cell_type": "code",
   "execution_count": null,
   "id": "776cfc04",
   "metadata": {
    "id": "776cfc04"
   },
   "outputs": [],
   "source": [
    "import pandas as pd\n",
    "\n",
    "NOAA = pd.read_pickle('/content/drive/MyDrive/cleaned.pkl')\n",
    "\n",
    "df_train = NOAA[NOAA['YEAR'] >= 1950]"
   ]
  },
  {
   "cell_type": "code",
   "execution_count": null,
   "id": "7oC_ggAh_-dB",
   "metadata": {
    "id": "7oC_ggAh_-dB"
   },
   "outputs": [],
   "source": [
    "# Normalizing DAMAGE_PROPERTY variable - if required\n",
    "\n",
    "# df_train['HasDamage'] = pd.Series(len(df_train['DAMAGE_PROPERTY']), index=df_train.index)\n",
    "# df_train['HasDamage'] = 0 \n",
    "# df_train.loc[df_train['DAMAGE_PROPERTY']>0,'HasDamage'] = 1\n",
    "\n",
    "# df_train.loc[df_train['HasDamage']==1,'DAMAGE_PROPERTY'] = np.log(df_train['DAMAGE_PROPERTY'])\n",
    "\n",
    "# df_train.drop(columns=['HasDamage'], inplace=True)\n",
    "\n",
    "# df_train.info()"
   ]
  },
  {
   "cell_type": "code",
   "execution_count": 5,
   "id": "84YtYYSzCAAC",
   "metadata": {
    "executionInfo": {
     "elapsed": 12270,
     "status": "ok",
     "timestamp": 1638550356432,
     "user": {
      "displayName": "Ishan Kuchroo",
      "photoUrl": "https://lh3.googleusercontent.com/a-/AOh14GjqL1VsIRtQxbdkbnsamPgdrsuFIrzKzg-MbkLU=s64",
      "userId": "15481571572392513977"
     },
     "user_tz": 300
    },
    "id": "84YtYYSzCAAC"
   },
   "outputs": [],
   "source": [
    "# assign labels to categorical columns\n",
    "\n",
    "# def mapping(xx):\n",
    "#     dict = {}\n",
    "#     count = -1\n",
    "#     for x in xx:\n",
    "#         dict[x] = count + 1\n",
    "#         count = count + 1\n",
    "#     return dict\n",
    "\n",
    "# for i in ['STATE', 'MONTH_NAME', 'EVENT_TYPE', 'CZ_TYPE',  'MAGNITUDE_TYPE', 'BEGIN_AZIMUTH', 'END_AZIMUTH', 'FLOOD_CAUSE', 'TOR_F_SCALE', 'TOR_LENGTH', 'TOR_WIDTH', 'TOR_OTHER_CZ_STATE', 'TOR_OTHER_CZ_NAME'\n",
    "#           , 'CZ_NAME',  'TOR_OTHER_CZ_NAME', 'BEGIN_LOCATION', 'END_LOCATION','CZ_TIMEZONE']:\n",
    "#     unique_tag = df_train[i].value_counts().keys().values\n",
    "#     dict_mapping = mapping(unique_tag)\n",
    "#     df_train[i] = df_train[i].map(lambda x: dict_mapping[x] if x in dict_mapping.keys() else -1)\n"
   ]
  },
  {
   "cell_type": "code",
   "execution_count": 55,
   "id": "H-ynoqby8kTU",
   "metadata": {
    "executionInfo": {
     "elapsed": 1,
     "status": "ok",
     "timestamp": 1638558185800,
     "user": {
      "displayName": "Ishan Kuchroo",
      "photoUrl": "https://lh3.googleusercontent.com/a-/AOh14GjqL1VsIRtQxbdkbnsamPgdrsuFIrzKzg-MbkLU=s64",
      "userId": "15481571572392513977"
     },
     "user_tz": 300
    },
    "id": "H-ynoqby8kTU"
   },
   "outputs": [],
   "source": [
    "# GET DUMMIES and assign labels to categorical columns\n",
    "\n",
    "def mapping(xx):\n",
    "    dict = {}\n",
    "    count = -1\n",
    "    for x in xx:\n",
    "        dict[x] = count + 1\n",
    "        count = count + 1\n",
    "    return dict\n",
    "\n",
    "for i in ['CZ_NAME', 'BEGIN_LOCATION', 'END_LOCATION', 'TOR_LENGTH' ,'TOR_WIDTH',\t'TOR_OTHER_CZ_STATE',\t'TOR_OTHER_CZ_NAME']:\n",
    "    unique_tag = df_train[i].value_counts().keys().values\n",
    "    dict_mapping = mapping(unique_tag)\n",
    "    df_train[i] = df_train[i].map(lambda x: dict_mapping[x] if x in dict_mapping.keys() else -1)\n",
    "\n",
    "df_train = pd.get_dummies(df_train, prefix=['STATE', 'MONTH_NAME', 'EVENT_TYPE', 'CZ_TYPE', 'CZ_TIMEZONE', 'BEGIN_AZIMUTH', 'MAGNITUDE_TYPE', 'FLOOD_CAUSE', 'TOR_F_SCALE', 'END_AZIMUTH']\n",
    "                          , columns=['STATE', 'MONTH_NAME', 'EVENT_TYPE', 'CZ_TYPE', 'CZ_TIMEZONE','BEGIN_AZIMUTH', 'MAGNITUDE_TYPE', 'FLOOD_CAUSE', 'TOR_F_SCALE', 'END_AZIMUTH'])\n",
    "df_train.head()\n"
   ]
  },
  {
   "cell_type": "code",
   "execution_count": 31,
   "id": "gc9pwLQ4hQbP",
   "metadata": {
    "executionInfo": {
     "elapsed": 568,
     "status": "ok",
     "timestamp": 1638555612305,
     "user": {
      "displayName": "Ishan Kuchroo",
      "photoUrl": "https://lh3.googleusercontent.com/a-/AOh14GjqL1VsIRtQxbdkbnsamPgdrsuFIrzKzg-MbkLU=s64",
      "userId": "15481571572392513977"
     },
     "user_tz": 300
    },
    "id": "gc9pwLQ4hQbP"
   },
   "outputs": [],
   "source": [
    "# remove any pending NAN from DAMAGE_CROPS and DAMAGE_PROPERTY\n",
    "\n",
    "# df_train.dropna(subset=[\"DAMAGE_PROPERTY\"], inplace=True)\n",
    "# df_train.dropna(subset=[\"DAMAGE_CROPS\"], inplace=True)\n",
    "\n",
    "# check for NULL values\n",
    "for i in df_train.columns:\n",
    "    if df_train[i].isna().sum() > 0:\n",
    "        print(df_train[i].name, \":\", df_train[i].isna().sum(), \"\\n\")\n",
    "        print((df_train[i].isna().sum()/df_train.shape[0])*100, \"\\n\")\n",
    "    else:\n",
    "        continue"
   ]
  },
  {
   "cell_type": "code",
   "execution_count": null,
   "id": "8GX2aHA7cKtz",
   "metadata": {
    "id": "8GX2aHA7cKtz"
   },
   "outputs": [],
   "source": [
    "# correlation\n",
    "\n",
    "corrmat = df_train.corr()\n",
    "\n",
    "f, ax = plt.subplots(figsize=(22, 19))\n",
    "sns.heatmap(corrmat, vmax=1.0, square=True)\n",
    "plt.show()\n",
    "\n",
    "#saleprice correlation matrix\n",
    "# k = 20 #number of variables for heatmap\n",
    "# cols = corrmat.nlargest(k, 'DAMAGE_PROPERTY')['DAMAGE_PROPERTY'].index\n",
    "# cm = np.corrcoef(df_train[cols].values.T)\n",
    "# sns.set(font_scale=1.25)\n",
    "# hm = sns.heatmap(cm, cbar=True, annot=True, square=True, fmt='.2f', annot_kws={'size': 15}, yticklabels=cols.values, xticklabels=cols.values)\n",
    "# plt.show()"
   ]
  },
  {
   "cell_type": "code",
   "execution_count": null,
   "id": "bmDBiqPZJjX8",
   "metadata": {
    "id": "bmDBiqPZJjX8"
   },
   "outputs": [],
   "source": [
    "# Create train test split\n",
    "X = df_train.loc[:, ~df_train.columns.isin(['DAMAGE_PROPERTY'])]\n",
    "\n",
    "Y = df_train['DAMAGE_PROPERTY']\n",
    "\n",
    "# split the dataset into train and test\n",
    "X_train, X_test, y_train, y_test = train_test_split(X, Y, test_size=0.3, random_state=100)\n",
    "\n",
    "print(X_train)"
   ]
  },
  {
   "cell_type": "code",
   "execution_count": 57,
   "id": "lkljK9xmpXTm",
   "metadata": {
    "executionInfo": {
     "elapsed": 1825,
     "status": "ok",
     "timestamp": 1638558190573,
     "user": {
      "displayName": "Ishan Kuchroo",
      "photoUrl": "https://lh3.googleusercontent.com/a-/AOh14GjqL1VsIRtQxbdkbnsamPgdrsuFIrzKzg-MbkLU=s64",
      "userId": "15481571572392513977"
     },
     "user_tz": 300
    },
    "id": "lkljK9xmpXTm"
   },
   "outputs": [],
   "source": [
    "# Scaling the data if required\n",
    "\n",
    "# sc = StandardScaler()\n",
    "# sc.fit(X_train)\n",
    "# X_train = sc.transform(X_train)\n",
    "# X_test = sc.transform(X_test)\n",
    "\n",
    "\n",
    "# Normalize the data\n",
    "\n",
    "X_train = (X_train - X_train.mean()) / X_train.std()"
   ]
  },
  {
   "cell_type": "code",
   "execution_count": 37,
   "id": "rWZsVuLpisfz",
   "metadata": {
    "executionInfo": {
     "elapsed": 16259,
     "status": "ok",
     "timestamp": 1638548771613,
     "user": {
      "displayName": "Ishan Kuchroo",
      "photoUrl": "https://lh3.googleusercontent.com/a-/AOh14GjqL1VsIRtQxbdkbnsamPgdrsuFIrzKzg-MbkLU=s64",
      "userId": "15481571572392513977"
     },
     "user_tz": 300
    },
    "id": "rWZsVuLpisfz"
   },
   "outputs": [],
   "source": [
    "# PCA code if we use one-hot encoding\n",
    "\n",
    "# pca = PCA(0.95)\n",
    "# #pca = PCA(n_components=25)\n",
    "# pca.fit(X_train)\n",
    "\n",
    "\n",
    "# X_train = pca.transform(X_train)\n",
    "# X_test = pca.transform(X_test)\n",
    "\n",
    "# print(X_train.shape)\n",
    "# pca.components_ "
   ]
  },
  {
   "cell_type": "code",
   "execution_count": null,
   "id": "lpWPUnUDGV8t",
   "metadata": {
    "id": "lpWPUnUDGV8t"
   },
   "outputs": [],
   "source": [
    "print(X_train.shape)\n"
   ]
  },
  {
   "cell_type": "code",
   "execution_count": 60,
   "id": "dO-72o_aLMAY",
   "metadata": {
    "colab": {
     "base_uri": "https://localhost:8080/"
    },
    "executionInfo": {
     "elapsed": 14730,
     "status": "ok",
     "timestamp": 1638558233166,
     "user": {
      "displayName": "Ishan Kuchroo",
      "photoUrl": "https://lh3.googleusercontent.com/a-/AOh14GjqL1VsIRtQxbdkbnsamPgdrsuFIrzKzg-MbkLU=s64",
      "userId": "15481571572392513977"
     },
     "user_tz": 300
    },
    "id": "dO-72o_aLMAY",
    "outputId": "658b49de-d4cd-4f0e-a1c6-2724fe31f1e1"
   },
   "outputs": [
    {
     "name": "stdout",
     "output_type": "stream",
     "text": [
      "LinearRegression()\n",
      "1227284.1892350877\n",
      "0.30910453397811843\n",
      "0.3056530742410414\n"
     ]
    }
   ],
   "source": [
    "model = LinearRegression()\n",
    "model.fit(X_train, y_train)\n",
    "\n",
    "print(model)\n",
    "\n",
    "# make predictions for test data\n",
    "y_pred = model.predict(X_test)\n",
    "y_pred_score = [round(value) for value in y_pred]\n",
    "\n",
    "MSE = mean_squared_error(y_pred,y_test)\n",
    "print(MSE)\n",
    "\n",
    "print(model.score(X_train,y_train))\n",
    "\n",
    "print(r2_score(y_test, y_pred))\n"
   ]
  },
  {
   "cell_type": "code",
   "execution_count": 40,
   "id": "BinuTnA1kFSG",
   "metadata": {
    "colab": {
     "base_uri": "https://localhost:8080/"
    },
    "executionInfo": {
     "elapsed": 1631343,
     "status": "ok",
     "timestamp": 1638557605582,
     "user": {
      "displayName": "Ishan Kuchroo",
      "photoUrl": "https://lh3.googleusercontent.com/a-/AOh14GjqL1VsIRtQxbdkbnsamPgdrsuFIrzKzg-MbkLU=s64",
      "userId": "15481571572392513977"
     },
     "user_tz": 300
    },
    "id": "BinuTnA1kFSG",
    "outputId": "37f589b7-c233-490a-b577-3e2eac5c1a1c"
   },
   "outputs": [
    {
     "name": "stdout",
     "output_type": "stream",
     "text": [
      "864152.8230748259\n",
      "0.5487856014470041\n",
      "0.5110978684880656\n"
     ]
    }
   ],
   "source": [
    "clf_rf = RandomForestRegressor(n_estimators= 100, oob_score = 'TRUE', n_jobs = -1,random_state =50, max_features = \"auto\", min_samples_leaf = 50)\n",
    "# RandomForestRegressor(max_depth=10, random_state=0)\n",
    "\n",
    "# perform training\n",
    "clf_rf.fit(X_train, y_train)\n",
    "\n",
    "# make predictions\n",
    "\n",
    "# prediction on test using all features\n",
    "y_pred = clf_rf.predict(X_test)\n",
    "\n",
    "MSE = mean_squared_error(y_pred,y_test)\n",
    "print(MSE)\n",
    "\n",
    "print(clf_rf.score(X_train,y_train))\n",
    "\n",
    "print(r2_score(y_test, y_pred))"
   ]
  },
  {
   "cell_type": "code",
   "execution_count": 41,
   "id": "bUWHdpy5qGfi",
   "metadata": {
    "colab": {
     "base_uri": "https://localhost:8080/"
    },
    "executionInfo": {
     "elapsed": 315,
     "status": "ok",
     "timestamp": 1638557658546,
     "user": {
      "displayName": "Ishan Kuchroo",
      "photoUrl": "https://lh3.googleusercontent.com/a-/AOh14GjqL1VsIRtQxbdkbnsamPgdrsuFIrzKzg-MbkLU=s64",
      "userId": "15481571572392513977"
     },
     "user_tz": 300
    },
    "id": "bUWHdpy5qGfi",
    "outputId": "57458761-e56a-40c4-bbd9-82c4c129379c"
   },
   "outputs": [
    {
     "data": {
      "text/plain": [
       "Index(['MAGNITUDE_TYPE_E', 'CZ_TIMEZONE_EDT', 'EVENT_ID', 'CZ_TIMEZONE_CDT-5',\n",
       "       'EVENT_TYPE_HAIL/ICY ROADS', 'GEO_DISTANCE', 'EVENT_TYPE_Landslide',\n",
       "       'CZ_NAME', 'DAMAGE_CROPS', 'END_YEARMONTH',\n",
       "       ...\n",
       "       'STATE_GEORGIA', 'EVENT_TYPE_THUNDERSTORM WINDS/FLOODING',\n",
       "       'EVENT_TYPE_Thunderstorm Wind', 'STATE_DELAWARE',\n",
       "       'EVENT_TYPE_Tropical Storm', 'EVENT_TYPE_Tsunami', 'CZ_TIMEZONE_AST',\n",
       "       'CZ_TIMEZONE_CDT', 'EVENT_TYPE_Dense Fog', 'END_AZIMUTH_WSW'],\n",
       "      dtype='object', length=228)"
      ]
     },
     "execution_count": 41,
     "metadata": {},
     "output_type": "execute_result"
    }
   ],
   "source": [
    "# np.argsort(clf_rf.feature_importances_)[::-1]\n",
    "df_train.columns[np.argsort(clf_rf.feature_importances_)[::-1]]"
   ]
  },
  {
   "cell_type": "code",
   "execution_count": null,
   "id": "gtSLh9k6qegX",
   "metadata": {
    "id": "gtSLh9k6qegX"
   },
   "outputs": [],
   "source": [
    "# rfc = XGBRegressor()\n",
    "\n",
    "# parameters = {\n",
    "#     'max_depth': range(2, 10, 1),\n",
    "#     'n_estimators': range(60, 220, 40),\n",
    "#     'learning_rate': [0.1, 0.01, 0.05]\n",
    "# }\n",
    "\n",
    "# xgb = GridSearchCV(rfc, parameters, cv=5, scoring='accuracy')\n",
    "\n",
    "xgb = XGBRegressor(learning_rate =0.01,subsample =0.7, max_depth=5, n_estimators=50, colsample_bytree=0.8)\n",
    "xgb.fit(X_train, y_train, eval_set=[(X_train, y_train)])\n",
    "\n",
    "# print(xgb.feature_importances_)\n",
    "\n",
    "# make predictions for test data\n",
    "y_pred = xgb.predict(X_test)\n",
    "y_pred_score = [round(value) for value in y_pred]\n",
    "\n",
    "MSE = mean_squared_error(y_pred,y_test)\n",
    "print(MSE)\n",
    "\n",
    "print(xgb.score(X_train,y_train))\n",
    "\n",
    "print(r2_score(y_test, y_pred))"
   ]
  },
  {
   "cell_type": "code",
   "execution_count": null,
   "id": "w3qmzNShNQ8F",
   "metadata": {
    "id": "w3qmzNShNQ8F"
   },
   "outputs": [],
   "source": [
    "print(xgb.score(X_train,y_train))\n",
    "\n",
    "print(r2_score(y_test, y_pred))"
   ]
  },
  {
   "cell_type": "code",
   "execution_count": 28,
   "id": "J17qedcXk9tq",
   "metadata": {
    "colab": {
     "base_uri": "https://localhost:8080/"
    },
    "executionInfo": {
     "elapsed": 26134,
     "status": "ok",
     "timestamp": 1638548287908,
     "user": {
      "displayName": "Ishan Kuchroo",
      "photoUrl": "https://lh3.googleusercontent.com/a-/AOh14GjqL1VsIRtQxbdkbnsamPgdrsuFIrzKzg-MbkLU=s64",
      "userId": "15481571572392513977"
     },
     "user_tz": 300
    },
    "id": "J17qedcXk9tq",
    "outputId": "64655a21-472c-4d11-c643-2b4568c350f6"
   },
   "outputs": [
    {
     "name": "stdout",
     "output_type": "stream",
     "text": [
      "1662544.6077184037\n",
      "1.0\n",
      "0.22235885366291253\n"
     ]
    }
   ],
   "source": [
    "clf_dt = DecisionTreeRegressor()\n",
    "\n",
    "# perform training\n",
    "clf_dt.fit(X_train, y_train)\n",
    "\n",
    "# make predictions\n",
    "\n",
    "# prediction on test using all features\n",
    "y_pred = clf_dt.predict(X_test)\n",
    "\n",
    "MSE = mean_squared_error(y_pred,y_test)\n",
    "print(MSE)\n",
    "\n",
    "print(clf_dt.score(X_train,y_train))\n",
    "\n",
    "print(r2_score(y_test, y_pred))"
   ]
  },
  {
   "cell_type": "code",
   "execution_count": 27,
   "id": "-3Ejvm9U2OGO",
   "metadata": {
    "colab": {
     "base_uri": "https://localhost:8080/"
    },
    "executionInfo": {
     "elapsed": 24931,
     "status": "ok",
     "timestamp": 1638548257637,
     "user": {
      "displayName": "Ishan Kuchroo",
      "photoUrl": "https://lh3.googleusercontent.com/a-/AOh14GjqL1VsIRtQxbdkbnsamPgdrsuFIrzKzg-MbkLU=s64",
      "userId": "15481571572392513977"
     },
     "user_tz": 300
    },
    "id": "-3Ejvm9U2OGO",
    "outputId": "f78ca574-d84e-40e1-a5f2-870dc42ae982"
   },
   "outputs": [
    {
     "name": "stdout",
     "output_type": "stream",
     "text": [
      "R-Square Value 0.31292961784566276\n"
     ]
    }
   ],
   "source": [
    "alpha_range = 10.**np.arange(-2, 3)\n",
    "\n",
    "ridgeregcv = RidgeCV(alphas=alpha_range, normalize=True, scoring='neg_mean_squared_error')\n",
    "ridgeregcv.fit(X_train, y_train)\n",
    "ridgeregcv.alpha_\n",
    "\n",
    "y_pred = ridgeregcv.predict(X_test)\n",
    "\n",
    "print(\"R-Square Value\",r2_score(y_test,y_pred))"
   ]
  },
  {
   "cell_type": "code",
   "execution_count": 29,
   "id": "vvsfjo-l2iwe",
   "metadata": {
    "colab": {
     "base_uri": "https://localhost:8080/"
    },
    "executionInfo": {
     "elapsed": 147786,
     "status": "ok",
     "timestamp": 1638548435691,
     "user": {
      "displayName": "Ishan Kuchroo",
      "photoUrl": "https://lh3.googleusercontent.com/a-/AOh14GjqL1VsIRtQxbdkbnsamPgdrsuFIrzKzg-MbkLU=s64",
      "userId": "15481571572392513977"
     },
     "user_tz": 300
    },
    "id": "vvsfjo-l2iwe",
    "outputId": "d420db1a-d0a9-4597-a62f-930fca2644db"
   },
   "outputs": [
    {
     "name": "stdout",
     "output_type": "stream",
     "text": [
      "alpha :  0.0007950231537356949\n",
      "R-Square Value 0.3132390480735068\n"
     ]
    }
   ],
   "source": [
    "lassoregcv = LassoCV(n_alphas=100, normalize=True, random_state=1)\n",
    "lassoregcv.fit(X_train, y_train)\n",
    "print('alpha : ',lassoregcv.alpha_)\n",
    "\n",
    "y_pred = lassoregcv.predict(X_test)\n",
    "\n",
    "print(\"R-Square Value\",r2_score(y_test,y_pred))"
   ]
  },
  {
   "cell_type": "code",
   "execution_count": null,
   "id": "HwelkHv8vBl3",
   "metadata": {
    "id": "HwelkHv8vBl3"
   },
   "outputs": [],
   "source": [
    "from sklearn.model_selection import cross_val_score\n",
    "from sklearn.model_selection import RepeatedKFold\n",
    "from xgboost import XGBRegressor\n",
    "\n",
    "model = XGBRegressor()\n",
    "# define model evaluation method\n",
    "cv = RepeatedKFold(n_splits=10, n_repeats=3, random_state=1)\n",
    "# evaluate model\n",
    "scores = cross_val_score(model, X, Y, scoring='neg_mean_absolute_error', cv=cv, n_jobs=-1,verbose=3)\n",
    "# force scores to be positive\n",
    "scores = absolute(scores)\n",
    "print('Mean MAE: %.3f (%.3f)' % (scores.mean(), scores.std()) )"
   ]
  },
  {
   "cell_type": "code",
   "execution_count": null,
   "id": "avmMePm0L8Fp",
   "metadata": {
    "id": "avmMePm0L8Fp"
   },
   "outputs": [],
   "source": [
    "NOAA_df['null_cnt_damage_property'] = NOAA_df['DAMAGE_CROPS'].isnull()\n",
    "df1 = NOAA_df.groupby('YEAR').agg({'null_cnt_damage_property' : ['sum', 'count']})\n",
    "df1.plot()"
   ]
  },
  {
   "cell_type": "code",
   "execution_count": null,
   "id": "LD58qUYDNw6c",
   "metadata": {
    "id": "LD58qUYDNw6c"
   },
   "outputs": [],
   "source": [
    "NOAA_df['null_cnt_damage_property'] = NOAA_df['DAMAGE_PROPERTY'].isnull()\n",
    "df1 = NOAA_df.groupby('EVENT_TYPE').agg({'null_cnt_damage_property' : ['sum', 'count']}).reset_index()\n",
    "df1['perc'] = df1[('null_cnt_damage_property', 'sum')] / df1[('null_cnt_damage_property', 'count')] * 100\n",
    "plt.figure(figsize=(20, 20))\n",
    "# sns.barplot(data=df1, y='EVENT_TYPE', x='perc')\n",
    "sns.barplot(data=df1, y='EVENT_TYPE', x=('null_cnt_damage_property', 'sum'))\n",
    "\n",
    "plt.show()"
   ]
  },
  {
   "cell_type": "code",
   "execution_count": null,
   "id": "xPyh7B75Nwbe",
   "metadata": {
    "id": "xPyh7B75Nwbe"
   },
   "outputs": [],
   "source": [
    "df2 = NOAA_df.groupby('EVENT_TYPE').mean()['DAMAGE_PROPERTY'].reset_index()\n",
    "df2 = df2[df2.EVENT_TYPE != 'TORNADOES, TSTM WIND, HAIL']\n",
    "plt.figure(figsize=(20, 20))\n",
    "# df2.head()\n",
    "# sns.barplot(data=df1, y='EVENT_TYPE', x='perc')\n",
    "sns.barplot(data=df2, y='EVENT_TYPE', x='DAMAGE_PROPERTY')\n",
    "plt.show()\n",
    "# NOAA_df['DAMAGE_PROPERTY'] = NOAA_df.DAMAGE_PROPERTY.map(replace_str2num)"
   ]
  }
 ],
 "metadata": {
  "colab": {
   "collapsed_sections": [],
   "name": "Data_cleaning_Model_IK.ipynb",
   "provenance": []
  },
  "kernelspec": {
   "display_name": "Python 3",
   "language": "python",
   "name": "python3"
  },
  "language_info": {
   "codemirror_mode": {
    "name": "ipython",
    "version": 3
   },
   "file_extension": ".py",
   "mimetype": "text/x-python",
   "name": "python",
   "nbconvert_exporter": "python",
   "pygments_lexer": "ipython3",
   "version": "3.8.8"
  }
 },
 "nbformat": 4,
 "nbformat_minor": 5
}
